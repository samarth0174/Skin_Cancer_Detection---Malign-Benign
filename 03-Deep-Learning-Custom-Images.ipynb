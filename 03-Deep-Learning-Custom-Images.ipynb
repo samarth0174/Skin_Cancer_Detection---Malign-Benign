{
 "cells": [
  {
   "cell_type": "code",
   "execution_count": 2,
   "metadata": {},
   "outputs": [],
   "source": [
    "import matplotlib.pyplot as plt\n",
    "import cv2\n",
    "# Technically not necessary in newest versions of jupyter\n",
    "%matplotlib inline"
   ]
  },
  {
   "cell_type": "code",
   "execution_count": 3,
   "metadata": {},
   "outputs": [
    {
     "name": "stderr",
     "output_type": "stream",
     "text": [
      "Using TensorFlow backend.\n"
     ]
    }
   ],
   "source": [
    "# width,height,channels\n",
    "image_shape = (224,224,3)\n",
    "from keras.preprocessing.image import ImageDataGenerator"
   ]
  },
  {
   "cell_type": "markdown",
   "metadata": {},
   "source": [
    "# loading data "
   ]
  },
  {
   "cell_type": "code",
   "execution_count": 4,
   "metadata": {},
   "outputs": [],
   "source": [
    "#Data preparation - image (normalisng)\n",
    "#using datagenerator Api\n",
    "image_gen = ImageDataGenerator(rotation_range=30, # rotate the image 30 degrees\n",
    "                               rescale=1/255, # Rescale the image by normalzing it.\n",
    "                               horizontal_flip=True, # Allo horizontal flipping\n",
    "                               fill_mode='nearest' # Fill in missing pixels with the nearest filled value\n",
    "                              )"
   ]
  },
  {
   "cell_type": "markdown",
   "metadata": {},
   "source": [
    "# Creating the Model - CNN\n"
   ]
  },
  {
   "cell_type": "code",
   "execution_count": 5,
   "metadata": {},
   "outputs": [],
   "source": [
    "from keras.models import Sequential\n",
    "from keras.layers import Activation, Dropout, Flatten, Dense, Conv2D, MaxPooling2D"
   ]
  },
  {
   "cell_type": "code",
   "execution_count": 6,
   "metadata": {},
   "outputs": [
    {
     "name": "stdout",
     "output_type": "stream",
     "text": [
      "WARNING:tensorflow:From C:\\Users\\samar\\Anaconda3\\lib\\site-packages\\tensorflow\\python\\framework\\op_def_library.py:263: colocate_with (from tensorflow.python.framework.ops) is deprecated and will be removed in a future version.\n",
      "Instructions for updating:\n",
      "Colocations handled automatically by placer.\n",
      "WARNING:tensorflow:From C:\\Users\\samar\\Anaconda3\\lib\\site-packages\\keras\\backend\\tensorflow_backend.py:3445: calling dropout (from tensorflow.python.ops.nn_ops) with keep_prob is deprecated and will be removed in a future version.\n",
      "Instructions for updating:\n",
      "Please use `rate` instead of `keep_prob`. Rate should be set to `rate = 1 - keep_prob`.\n"
     ]
    }
   ],
   "source": [
    "model = Sequential()\n",
    "\n",
    "model.add(Conv2D(filters=32, kernel_size=(3,3),input_shape=image_shape, activation='relu',))\n",
    "model.add(MaxPooling2D(pool_size=(2, 2)))\n",
    "model.add(Dropout(0.25))\n",
    "model.add(Conv2D(filters=64, kernel_size=(3,3), activation='relu'))\n",
    "model.add(MaxPooling2D(pool_size=(2, 2)))\n",
    "model.add(Conv2D(filters=64, kernel_size=(3,3), activation='relu'))\n",
    "model.add(MaxPooling2D(pool_size=(2, 2)))\n",
    "model.add(Conv2D(filters=64, kernel_size=(3,3), activation='relu'))\n",
    "model.add(MaxPooling2D(pool_size=(2, 2)))\n",
    "model.add(Dropout(0.25))\n",
    "model.add(Conv2D(filters=128, kernel_size=(3,3), activation='relu'))\n",
    "model.add(MaxPooling2D(pool_size=(2, 2)))\n",
    "model.add(Conv2D(filters=128, kernel_size=(3,3), activation='relu',))\n",
    "model.add(MaxPooling2D(pool_size=(2, 2)))\n",
    "model.add(Conv2D(filters=128, kernel_size=(3,3), activation='relu',))\n",
    "model.add(MaxPooling2D(pool_size=(2, 2)))\n",
    "model.add(Flatten())\n",
    "\n",
    "\n",
    "model.add(Dense(256))\n",
    "model.add(Activation('relu'))\n",
    "\n",
    "# Dropouts help reduce overfitting by randomly turning neurons off during training.\n",
    "# Here we say randomly turn off 50% of neurons.\n",
    "model.add(Dropout(0.5))\n",
    "\n",
    "# Last layer only one dense, remember its binary, 0=Benign , 1=Malignant\n",
    "model.add(Dense(1))\n",
    "model.add(Activation('sigmoid'))\n",
    "\n",
    "#loss fn  -  binar_crossentropy bcs 0 or 1 prediction \n",
    "model.compile(loss='binary_crossentropy',\n",
    "              optimizer='adam',\n",
    "              metrics=['accuracy'])"
   ]
  },
  {
   "cell_type": "code",
   "execution_count": 20,
   "metadata": {},
   "outputs": [
    {
     "name": "stdout",
     "output_type": "stream",
     "text": [
      "_________________________________________________________________\n",
      "Layer (type)                 Output Shape              Param #   \n",
      "=================================================================\n",
      "conv2d_1 (Conv2D)            (None, 222, 222, 32)      896       \n",
      "_________________________________________________________________\n",
      "max_pooling2d_1 (MaxPooling2 (None, 111, 111, 32)      0         \n",
      "_________________________________________________________________\n",
      "dropout_1 (Dropout)          (None, 111, 111, 32)      0         \n",
      "_________________________________________________________________\n",
      "conv2d_2 (Conv2D)            (None, 109, 109, 64)      18496     \n",
      "_________________________________________________________________\n",
      "max_pooling2d_2 (MaxPooling2 (None, 54, 54, 64)        0         \n",
      "_________________________________________________________________\n",
      "conv2d_3 (Conv2D)            (None, 52, 52, 64)        36928     \n",
      "_________________________________________________________________\n",
      "max_pooling2d_3 (MaxPooling2 (None, 26, 26, 64)        0         \n",
      "_________________________________________________________________\n",
      "dropout_2 (Dropout)          (None, 26, 26, 64)        0         \n",
      "_________________________________________________________________\n",
      "conv2d_4 (Conv2D)            (None, 24, 24, 128)       73856     \n",
      "_________________________________________________________________\n",
      "max_pooling2d_4 (MaxPooling2 (None, 12, 12, 128)       0         \n",
      "_________________________________________________________________\n",
      "conv2d_5 (Conv2D)            (None, 10, 10, 128)       147584    \n",
      "_________________________________________________________________\n",
      "max_pooling2d_5 (MaxPooling2 (None, 5, 5, 128)         0         \n",
      "_________________________________________________________________\n",
      "conv2d_6 (Conv2D)            (None, 3, 3, 128)         147584    \n",
      "_________________________________________________________________\n",
      "max_pooling2d_6 (MaxPooling2 (None, 1, 1, 128)         0         \n",
      "_________________________________________________________________\n",
      "flatten_1 (Flatten)          (None, 128)               0         \n",
      "_________________________________________________________________\n",
      "dense_1 (Dense)              (None, 256)               33024     \n",
      "_________________________________________________________________\n",
      "activation_1 (Activation)    (None, 256)               0         \n",
      "_________________________________________________________________\n",
      "dropout_3 (Dropout)          (None, 256)               0         \n",
      "_________________________________________________________________\n",
      "dense_2 (Dense)              (None, 1)                 257       \n",
      "_________________________________________________________________\n",
      "activation_2 (Activation)    (None, 1)                 0         \n",
      "=================================================================\n",
      "Total params: 458,625\n",
      "Trainable params: 458,625\n",
      "Non-trainable params: 0\n",
      "_________________________________________________________________\n"
     ]
    }
   ],
   "source": [
    "model.summary()"
   ]
  },
  {
   "cell_type": "markdown",
   "metadata": {},
   "source": [
    "### Training the Model"
   ]
  },
  {
   "cell_type": "code",
   "execution_count": 8,
   "metadata": {},
   "outputs": [
    {
     "name": "stdout",
     "output_type": "stream",
     "text": [
      "Found 2637 images belonging to 2 classes.\n"
     ]
    }
   ],
   "source": [
    "batch_size = 16\n",
    "\n",
    "train_image_gen = image_gen.flow_from_directory('../skin-cancer-malignant-vs-benign/Data/train',\n",
    "                                               target_size=image_shape[:2],\n",
    "                                               batch_size=batch_size,\n",
    "                                               class_mode='binary')"
   ]
  },
  {
   "cell_type": "code",
   "execution_count": 9,
   "metadata": {},
   "outputs": [
    {
     "name": "stdout",
     "output_type": "stream",
     "text": [
      "Found 661 images belonging to 2 classes.\n"
     ]
    }
   ],
   "source": [
    "test_image_gen = image_gen.flow_from_directory('../skin-cancer-malignant-vs-benign/Data/test',\n",
    "                                                 target_size=image_shape[:2],\n",
    "                                               batch_size=batch_size,\n",
    "                                               class_mode='binary')"
   ]
  },
  {
   "cell_type": "code",
   "execution_count": 10,
   "metadata": {},
   "outputs": [
    {
     "data": {
      "text/plain": [
       "{'benign': 0, 'malignant': 1}"
      ]
     },
     "execution_count": 10,
     "metadata": {},
     "output_type": "execute_result"
    }
   ],
   "source": [
    "train_image_gen.class_indices"
    "from keras.callbacks import TensorBoard"
    "%reload_ext tensorboard"
    "import datetime"
    "#the number of samples processed for each epoch is batch_size * steps_per_epochs"
    "log_dir= 'logs/fit/' + datetime.datetime.now().strftime('%Y%m%d-%H%M%S')"
    "tensorboard_callback = tf.keras.callbacks.TensorBoard(log_dir=log_dir, histogram_freq=1)"

   ]
  },
  {
   "cell_type": "code",
   "execution_count": 11,
   "metadata": {},
   "outputs": [],
   "source": [
    "import warnings\n",
    "warnings.filterwarnings('ignore')"
   ]
  },
  {
   "cell_type": "code",
   "execution_count": 12,
   "metadata": {
    "scrolled": true
   },
   "outputs": [
    {
     "name": "stdout",
     "output_type": "stream",
     "text": [
      "WARNING:tensorflow:From C:\\Users\\samar\\Anaconda3\\lib\\site-packages\\tensorflow\\python\\ops\\math_ops.py:3066: to_int32 (from tensorflow.python.ops.math_ops) is deprecated and will be removed in a future version.\n",
      "Instructions for updating:\n",
      "Use tf.cast instead.\n",
      "Epoch 1/100\n",
      "50/50 [==============================] - 87s 2s/step - loss: 0.6854 - acc: 0.5550 - val_loss: 0.6539 - val_acc: 0.5573\n",
      "Epoch 2/100\n",
      "50/50 [==============================] - 38s 759ms/step - loss: 0.5563 - acc: 0.7025 - val_loss: 0.5661 - val_acc: 0.7396\n",
      "Epoch 3/100\n",
      "50/50 [==============================] - 36s 722ms/step - loss: 0.5618 - acc: 0.7350 - val_loss: 0.4875 - val_acc: 0.7656\n",
      "Epoch 4/100\n",
      "50/50 [==============================] - 35s 693ms/step - loss: 0.5993 - acc: 0.6657 - val_loss: 0.5225 - val_acc: 0.7680\n",
      "Epoch 5/100\n",
      "50/50 [==============================] - 30s 596ms/step - loss: 0.5160 - acc: 0.7362 - val_loss: 0.5421 - val_acc: 0.7604\n",
      "Epoch 6/100\n",
      "50/50 [==============================] - 32s 631ms/step - loss: 0.5267 - acc: 0.7338 - val_loss: 0.4667 - val_acc: 0.7760\n",
      "Epoch 7/100\n",
      "50/50 [==============================] - 29s 582ms/step - loss: 0.3968 - acc: 0.8337 - val_loss: 0.5116 - val_acc: 0.7072\n",
      "Epoch 8/100\n",
      "50/50 [==============================] - 31s 618ms/step - loss: 0.4365 - acc: 0.7875 - val_loss: 0.4484 - val_acc: 0.7708\n",
      "Epoch 9/100\n",
      "50/50 [==============================] - 32s 631ms/step - loss: 0.5304 - acc: 0.7212 - val_loss: 0.5563 - val_acc: 0.7448\n",
      "Epoch 10/100\n",
      "50/50 [==============================] - 32s 636ms/step - loss: 0.5148 - acc: 0.7472 - val_loss: 0.4822 - val_acc: 0.7500\n",
      "Epoch 11/100\n",
      "50/50 [==============================] - 31s 620ms/step - loss: 0.5057 - acc: 0.7550 - val_loss: 0.4611 - val_acc: 0.7790\n",
      "Epoch 12/100\n",
      "50/50 [==============================] - 32s 633ms/step - loss: 0.4846 - acc: 0.7562 - val_loss: 0.5803 - val_acc: 0.6458\n",
      "Epoch 13/100\n",
      "50/50 [==============================] - 32s 643ms/step - loss: 0.4847 - acc: 0.7612 - val_loss: 0.4532 - val_acc: 0.8177\n",
      "Epoch 14/100\n",
      "50/50 [==============================] - 30s 600ms/step - loss: 0.4299 - acc: 0.7979 - val_loss: 0.5461 - val_acc: 0.7127\n",
      "Epoch 15/100\n",
      "50/50 [==============================] - 29s 584ms/step - loss: 0.4651 - acc: 0.7662 - val_loss: 0.4294 - val_acc: 0.8021\n",
      "Epoch 16/100\n",
      "50/50 [==============================] - 31s 612ms/step - loss: 0.4847 - acc: 0.7775 - val_loss: 0.4452 - val_acc: 0.7917\n",
      "Epoch 17/100\n",
      "50/50 [==============================] - 32s 634ms/step - loss: 0.4569 - acc: 0.7732 - val_loss: 0.4665 - val_acc: 0.7708\n",
      "Epoch 18/100\n",
      "50/50 [==============================] - 30s 602ms/step - loss: 0.4762 - acc: 0.7687 - val_loss: 0.5261 - val_acc: 0.7017\n",
      "Epoch 19/100\n",
      "50/50 [==============================] - 31s 621ms/step - loss: 0.4864 - acc: 0.7762 - val_loss: 0.5103 - val_acc: 0.7760\n",
      "Epoch 20/100\n",
      "50/50 [==============================] - 31s 621ms/step - loss: 0.5048 - acc: 0.7369 - val_loss: 0.5882 - val_acc: 0.6667\n",
      "Epoch 21/100\n",
      "50/50 [==============================] - 31s 624ms/step - loss: 0.4767 - acc: 0.7612 - val_loss: 0.4761 - val_acc: 0.7514\n",
      "Epoch 22/100\n",
      "50/50 [==============================] - 30s 605ms/step - loss: 0.4559 - acc: 0.7700 - val_loss: 0.4636 - val_acc: 0.7969\n",
      "Epoch 23/100\n",
      "50/50 [==============================] - 31s 622ms/step - loss: 0.4324 - acc: 0.7837 - val_loss: 0.4478 - val_acc: 0.7604\n",
      "Epoch 24/100\n",
      "50/50 [==============================] - 28s 557ms/step - loss: 0.4223 - acc: 0.7816 - val_loss: 0.4203 - val_acc: 0.7812\n",
      "Epoch 25/100\n",
      "50/50 [==============================] - 28s 568ms/step - loss: 0.4223 - acc: 0.7987 - val_loss: 0.4385 - val_acc: 0.7790\n",
      "Epoch 26/100\n",
      "50/50 [==============================] - 30s 602ms/step - loss: 0.4548 - acc: 0.7612 - val_loss: 0.4586 - val_acc: 0.7760\n",
      "Epoch 27/100\n",
      "50/50 [==============================] - 28s 559ms/step - loss: 0.4258 - acc: 0.7904 - val_loss: 0.3722 - val_acc: 0.8177\n",
      "Epoch 28/100\n",
      "50/50 [==============================] - 29s 579ms/step - loss: 0.4270 - acc: 0.8000 - val_loss: 0.4267 - val_acc: 0.7624\n",
      "Epoch 29/100\n",
      "50/50 [==============================] - 29s 579ms/step - loss: 0.3878 - acc: 0.8113 - val_loss: 0.4138 - val_acc: 0.8021\n",
      "Epoch 30/100\n",
      "50/50 [==============================] - 30s 607ms/step - loss: 0.4120 - acc: 0.7822 - val_loss: 0.4225 - val_acc: 0.8021\n",
      "Epoch 31/100\n",
      "50/50 [==============================] - 29s 587ms/step - loss: 0.4247 - acc: 0.7875 - val_loss: 0.4692 - val_acc: 0.7812\n",
      "Epoch 32/100\n",
      "50/50 [==============================] - 30s 592ms/step - loss: 0.6555 - acc: 0.6262 - val_loss: 0.6257 - val_acc: 0.6851\n",
      "Epoch 33/100\n",
      "50/50 [==============================] - 29s 576ms/step - loss: 0.6335 - acc: 0.6305 - val_loss: 0.5536 - val_acc: 0.8021\n",
      "Epoch 34/100\n",
      "50/50 [==============================] - 24s 474ms/step - loss: 0.5504 - acc: 0.7412 - val_loss: 0.5304 - val_acc: 0.7344\n",
      "Epoch 35/100\n",
      "50/50 [==============================] - 23s 462ms/step - loss: 0.4489 - acc: 0.8037 - val_loss: 0.6382 - val_acc: 0.7127\n",
      "Epoch 36/100\n",
      "50/50 [==============================] - 24s 476ms/step - loss: 0.4292 - acc: 0.8150 - val_loss: 0.4234 - val_acc: 0.7708\n",
      "Epoch 37/100\n",
      "50/50 [==============================] - 24s 480ms/step - loss: 0.4033 - acc: 0.8094 - val_loss: 0.3537 - val_acc: 0.8229\n",
      "Epoch 38/100\n",
      "50/50 [==============================] - 22s 445ms/step - loss: 0.4910 - acc: 0.7850 - val_loss: 0.4258 - val_acc: 0.8021\n",
      "Epoch 39/100\n",
      "50/50 [==============================] - 22s 437ms/step - loss: 0.3934 - acc: 0.8337 - val_loss: 0.4394 - val_acc: 0.7956\n",
      "Epoch 40/100\n",
      "50/50 [==============================] - 22s 438ms/step - loss: 0.4264 - acc: 0.8010 - val_loss: 0.3254 - val_acc: 0.8698\n",
      "Epoch 41/100\n",
      "50/50 [==============================] - 22s 435ms/step - loss: 0.3853 - acc: 0.8200 - val_loss: 0.4789 - val_acc: 0.7552\n",
      "Epoch 42/100\n",
      "50/50 [==============================] - 22s 433ms/step - loss: 0.4128 - acc: 0.8237 - val_loss: 0.4197 - val_acc: 0.8122\n",
      "Epoch 43/100\n",
      "50/50 [==============================] - 22s 435ms/step - loss: 0.3698 - acc: 0.8273 - val_loss: 0.4999 - val_acc: 0.7812\n",
      "Epoch 44/100\n",
      "50/50 [==============================] - 22s 434ms/step - loss: 0.3625 - acc: 0.8425 - val_loss: 0.4600 - val_acc: 0.7865\n",
      "Epoch 45/100\n",
      "50/50 [==============================] - 22s 431ms/step - loss: 0.4064 - acc: 0.8100 - val_loss: 0.3702 - val_acc: 0.8177\n",
      "Epoch 46/100\n",
      "50/50 [==============================] - 21s 427ms/step - loss: 0.3638 - acc: 0.8438 - val_loss: 0.3852 - val_acc: 0.8177\n",
      "Epoch 47/100\n",
      "50/50 [==============================] - 22s 435ms/step - loss: 0.3875 - acc: 0.8266 - val_loss: 0.4010 - val_acc: 0.8125\n",
      "Epoch 48/100\n",
      "50/50 [==============================] - 22s 441ms/step - loss: 0.3600 - acc: 0.8413 - val_loss: 0.3460 - val_acc: 0.8490\n",
      "Epoch 49/100\n",
      "50/50 [==============================] - 21s 430ms/step - loss: 0.3448 - acc: 0.8325 - val_loss: 0.3718 - val_acc: 0.8453\n",
      "Epoch 50/100\n",
      "50/50 [==============================] - 22s 434ms/step - loss: 0.3578 - acc: 0.8351 - val_loss: 0.3672 - val_acc: 0.8333\n",
      "Epoch 51/100\n",
      "50/50 [==============================] - 22s 439ms/step - loss: 0.3839 - acc: 0.8175 - val_loss: 0.3836 - val_acc: 0.8281\n",
      "Epoch 52/100\n",
      "50/50 [==============================] - 22s 435ms/step - loss: 0.3486 - acc: 0.8413 - val_loss: 0.4174 - val_acc: 0.7865\n",
      "Epoch 53/100\n",
      "50/50 [==============================] - 22s 431ms/step - loss: 0.3933 - acc: 0.8262 - val_loss: 0.3969 - val_acc: 0.8453\n",
      "Epoch 54/100\n",
      "50/50 [==============================] - 22s 439ms/step - loss: 0.3554 - acc: 0.8363 - val_loss: 0.3564 - val_acc: 0.8281\n",
      "Epoch 55/100\n",
      "50/50 [==============================] - 22s 434ms/step - loss: 0.3732 - acc: 0.8237 - val_loss: 0.4165 - val_acc: 0.8438\n",
      "Epoch 56/100\n",
      "50/50 [==============================] - 21s 430ms/step - loss: 0.3594 - acc: 0.8488 - val_loss: 0.3801 - val_acc: 0.8453\n",
      "Epoch 57/100\n",
      "50/50 [==============================] - 24s 472ms/step - loss: 0.3702 - acc: 0.8282 - val_loss: 0.3876 - val_acc: 0.8177\n",
      "Epoch 58/100\n",
      "50/50 [==============================] - 24s 471ms/step - loss: 0.3403 - acc: 0.8462 - val_loss: 0.3553 - val_acc: 0.8594\n",
      "Epoch 59/100\n",
      "50/50 [==============================] - 22s 445ms/step - loss: 0.3679 - acc: 0.8375 - val_loss: 0.5612 - val_acc: 0.7604\n",
      "Epoch 60/100\n",
      "50/50 [==============================] - 23s 463ms/step - loss: 0.3206 - acc: 0.8635 - val_loss: 0.3700 - val_acc: 0.8122\n",
      "Epoch 61/100\n",
      "50/50 [==============================] - 25s 492ms/step - loss: 0.3770 - acc: 0.8162 - val_loss: 0.5042 - val_acc: 0.7865\n",
      "Epoch 62/100\n",
      "50/50 [==============================] - 24s 482ms/step - loss: 0.3847 - acc: 0.8300 - val_loss: 0.4388 - val_acc: 0.7656\n",
      "Epoch 63/100\n",
      "50/50 [==============================] - 23s 466ms/step - loss: 0.3465 - acc: 0.8385 - val_loss: 0.3622 - val_acc: 0.8232\n",
      "Epoch 64/100\n",
      "50/50 [==============================] - 25s 506ms/step - loss: 0.3160 - acc: 0.8650 - val_loss: 0.3575 - val_acc: 0.8542\n",
      "Epoch 65/100\n",
      "50/50 [==============================] - 23s 456ms/step - loss: 0.3513 - acc: 0.8400 - val_loss: 0.3740 - val_acc: 0.8125\n",
      "Epoch 66/100\n",
      "50/50 [==============================] - 22s 444ms/step - loss: 0.4000 - acc: 0.8129 - val_loss: 0.4332 - val_acc: 0.7917\n",
      "Epoch 67/100\n",
      "50/50 [==============================] - 22s 442ms/step - loss: 0.3240 - acc: 0.8450 - val_loss: 0.4326 - val_acc: 0.8066\n",
      "Epoch 68/100\n",
      "50/50 [==============================] - 23s 455ms/step - loss: 0.3467 - acc: 0.8425 - val_loss: 0.3199 - val_acc: 0.8594\n",
      "Epoch 69/100\n",
      "50/50 [==============================] - 22s 434ms/step - loss: 0.3701 - acc: 0.8363 - val_loss: 0.4599 - val_acc: 0.7969\n",
      "Epoch 70/100\n",
      "50/50 [==============================] - 21s 429ms/step - loss: 0.3509 - acc: 0.8319 - val_loss: 0.3996 - val_acc: 0.8287\n",
      "Epoch 71/100\n",
      "50/50 [==============================] - 22s 435ms/step - loss: 0.3350 - acc: 0.8450 - val_loss: 0.4260 - val_acc: 0.8125\n",
      "Epoch 72/100\n",
      "50/50 [==============================] - 25s 495ms/step - loss: 0.3012 - acc: 0.8700 - val_loss: 0.3772 - val_acc: 0.8438\n",
      "Epoch 73/100\n",
      "50/50 [==============================] - 23s 462ms/step - loss: 0.3509 - acc: 0.8472 - val_loss: 0.3335 - val_acc: 0.8281\n",
      "Epoch 74/100\n",
      "50/50 [==============================] - 22s 442ms/step - loss: 0.3410 - acc: 0.8337 - val_loss: 0.3316 - val_acc: 0.8398\n",
      "Epoch 75/100\n",
      "50/50 [==============================] - 22s 449ms/step - loss: 0.3142 - acc: 0.8588 - val_loss: 0.4256 - val_acc: 0.8229\n",
      "Epoch 76/100\n",
      "50/50 [==============================] - 23s 454ms/step - loss: 0.3439 - acc: 0.8432 - val_loss: 0.4647 - val_acc: 0.7917\n",
      "Epoch 77/100\n",
      "50/50 [==============================] - 21s 430ms/step - loss: 0.3175 - acc: 0.8475 - val_loss: 0.2997 - val_acc: 0.8564\n",
      "Epoch 78/100\n",
      "50/50 [==============================] - 22s 438ms/step - loss: 0.3352 - acc: 0.8475 - val_loss: 0.4464 - val_acc: 0.7865\n",
      "Epoch 79/100\n",
      "50/50 [==============================] - 23s 457ms/step - loss: 0.3247 - acc: 0.8413 - val_loss: 0.4946 - val_acc: 0.7969\n",
      "Epoch 80/100\n",
      "50/50 [==============================] - 22s 434ms/step - loss: 0.3155 - acc: 0.8422 - val_loss: 0.4121 - val_acc: 0.8021\n",
      "Epoch 81/100\n",
      "50/50 [==============================] - 22s 431ms/step - loss: 0.3434 - acc: 0.8538 - val_loss: 0.5328 - val_acc: 0.7790\n",
      "Epoch 82/100\n",
      "50/50 [==============================] - 23s 456ms/step - loss: 0.3804 - acc: 0.8287 - val_loss: 0.3624 - val_acc: 0.8021\n",
      "Epoch 83/100\n",
      "50/50 [==============================] - 24s 489ms/step - loss: 0.3276 - acc: 0.8535 - val_loss: 0.4663 - val_acc: 0.7917\n",
      "Epoch 84/100\n",
      "50/50 [==============================] - 23s 468ms/step - loss: 0.3229 - acc: 0.8550 - val_loss: 0.4289 - val_acc: 0.7845\n",
      "Epoch 85/100\n",
      "50/50 [==============================] - 22s 443ms/step - loss: 0.3302 - acc: 0.8488 - val_loss: 0.3705 - val_acc: 0.7917\n",
      "Epoch 86/100\n",
      "50/50 [==============================] - 22s 442ms/step - loss: 0.3245 - acc: 0.8594 - val_loss: 0.3651 - val_acc: 0.8333\n",
      "Epoch 87/100\n",
      "50/50 [==============================] - 22s 446ms/step - loss: 0.3440 - acc: 0.8425 - val_loss: 0.3269 - val_acc: 0.8542\n",
      "Epoch 88/100\n",
      "50/50 [==============================] - 22s 447ms/step - loss: 0.3584 - acc: 0.8500 - val_loss: 0.3727 - val_acc: 0.8066\n",
      "Epoch 89/100\n",
      "50/50 [==============================] - 22s 441ms/step - loss: 0.3084 - acc: 0.8462 - val_loss: 0.3081 - val_acc: 0.8698\n",
      "Epoch 90/100\n",
      "50/50 [==============================] - 22s 448ms/step - loss: 0.3083 - acc: 0.8594 - val_loss: 0.3399 - val_acc: 0.8594\n",
      "Epoch 91/100\n",
      "50/50 [==============================] - 22s 439ms/step - loss: 0.3188 - acc: 0.8450 - val_loss: 0.4285 - val_acc: 0.7735\n",
      "Epoch 92/100\n",
      "50/50 [==============================] - 22s 442ms/step - loss: 0.3211 - acc: 0.8462 - val_loss: 0.3338 - val_acc: 0.8438\n",
      "Epoch 93/100\n",
      "50/50 [==============================] - 22s 445ms/step - loss: 0.3470 - acc: 0.8554 - val_loss: 0.4258 - val_acc: 0.8021\n",
      "Epoch 94/100\n",
      "50/50 [==============================] - 22s 445ms/step - loss: 0.3016 - acc: 0.8500 - val_loss: 0.3931 - val_acc: 0.8333\n",
      "Epoch 95/100\n",
      "50/50 [==============================] - 22s 439ms/step - loss: 0.2817 - acc: 0.8725 - val_loss: 0.3466 - val_acc: 0.8287\n",
      "Epoch 96/100\n",
      "50/50 [==============================] - 22s 437ms/step - loss: 0.3458 - acc: 0.8325 - val_loss: 0.3425 - val_acc: 0.8177\n",
      "Epoch 97/100\n",
      "50/50 [==============================] - 22s 445ms/step - loss: 0.3223 - acc: 0.8413 - val_loss: 0.3376 - val_acc: 0.8594\n",
      "Epoch 98/100\n",
      "50/50 [==============================] - 22s 440ms/step - loss: 0.3220 - acc: 0.8600 - val_loss: 0.3453 - val_acc: 0.8287\n",
      "Epoch 99/100\n",
      "50/50 [==============================] - 22s 440ms/step - loss: 0.3331 - acc: 0.8301 - val_loss: 0.3219 - val_acc: 0.8281\n",
      "Epoch 100/100\n",
      "50/50 [==============================] - 23s 451ms/step - loss: 0.2982 - acc: 0.8538 - val_loss: 0.4056 - val_acc: 0.8073\n"
     ]
    }
   ],
   "source": [
    "#the number of samples processed for each epoch is batch_size * steps_per_epochs\n",
    "results = model.fit_generator(train_image_gen,epochs=100,\n",
    "                              steps_per_epoch=50,\n",
    "                              validation_data=test_image_gen,\n",
    "                             validation_steps=12,callbacks = [tensorboard_callback],\n"
    "                             )"
   ]
  },
  {
   "cell_type": "code",
   "execution_count": 13,
   "metadata": {},
   "outputs": [
    {
     "name": "stdout",
     "output_type": "stream",
     "text": [
      "0.8084847396916848\n",
      "0.7944777279730002\n",
      "0.40030489936271574\n",
      "0.43141445797585076\n"
     ]
    }
   ],
   "source": [
    "import numpy as np\n",
    "print(np.mean(results.history['acc']))\n",
    "print(np.mean(results.history['val_acc']))\n",
    "print(np.mean(results.history['loss']))\n",
    "print(np.mean(results.history['val_loss']))\n"
   ]
  },
  {
   "cell_type": "markdown",
   "metadata": {},
   "source": [
    "# Evaluating the Model"
   ]
  },
  {
   "cell_type": "code",
   "execution_count": 14,
   "metadata": {},
   "outputs": [
    {
     "data": {
      "image/png": "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\n",
      "text/plain": [
       "<Figure size 432x288 with 1 Axes>"
      ]
     },
     "metadata": {
      "needs_background": "light"
     },
     "output_type": "display_data"
    }
   ],
   "source": [
    "plt.plot(results.history['acc'])\n",
    "plt.plot(results.history['val_acc'])\n",
    "plt.title('model accuracy')\n",
    "plt.ylabel('accuracy')\n",
    "plt.xlabel('epoch')\n",
    "plt.show()"
   ]
  },
  {
   "cell_type": "code",
   "execution_count": 15,
   "metadata": {},
   "outputs": [
    {
     "data": {
      "image/png": "iVBORw0KGgoAAAANSUhEUgAAAYgAAAEWCAYAAAB8LwAVAAAABHNCSVQICAgIfAhkiAAAAAlwSFlzAAALEgAACxIB0t1+/AAAADh0RVh0U29mdHdhcmUAbWF0cGxvdGxpYiB2ZXJzaW9uMy4xLjAsIGh0dHA6Ly9tYXRwbG90bGliLm9yZy+17YcXAAAgAElEQVR4nOy9d5ikV3mnfT+VqzrnSdIkzUgzGhQHISzAyIASRgTZAmFssL2W+byEXWzW0rc2rHFYLevFGFvGBlsLthdkrUgCDSiggIwkpJEYhZnR5NQTezpWjmf/OOetequ6qru6u6p7eubc19VXd72pTlVXnd/7xCNKKSwWi8ViqcSz0AOwWCwWy5mJFQiLxWKxVMUKhMVisViqYgXCYrFYLFWxAmGxWCyWqliBsFgsFktVrEBYLA1ARL4mIn9W57EHReTtc72OxdJsrEBYLBaLpSpWICwWi8VSFSsQlnMG49r5tIi8LCJxEfknERkQkR+KSFREHhWRLtfxN4vIdhEZE5EnRGSDa9/lIvKiOe/fgFDFc/2yiGwz5z4tIpfMcsy/IyJ7RWRERB4QkWVmu4jIX4nIKREZN69pk9l3k4jsMGM7KiJ/MKs3zHLOYwXCcq5xC/AOYD3wLuCHwP8P9KK/D58AEJH1wDeB/wT0AVuA74tIQEQCwHeBfwG6gf9rros59wrgHuB3gR7gH4AHRCQ4k4GKyC8B/x24FVgKHALuNbuvA95iXkcn8H5g2Oz7J+B3lVJtwCbgsZk8r8XiYAXCcq7xN0qpk0qpo8BTwM+UUj9XSqWB7wCXm+PeDzyolHpEKZUF/hIIA78AXA34gS8qpbJKqfuB513P8TvAPyilfqaUyiulvg6kzXkz4deAe5RSL5rx3Qm8UURWAVmgDbgIEKXUTqXUcXNeFtgoIu1KqVGl1IszfF6LBbACYTn3OOn6O1nlcav5exn6jh0ApVQBOAIsN/uOqvJOl4dcf68Eft+4l8ZEZAw4z5w3EyrHEENbCcuVUo8BfwvcDZwUka+ISLs59BbgJuCQiDwpIm+c4fNaLIAVCIulFsfQEz2gff7oSf4ocBxYbrY5nO/6+wjw50qpTtdPRCn1zTmOoQXtsjoKoJT6klLqSuBitKvp02b780qpdwP9aFfYfTN8XosFsAJhsdTiPuCdIvI2EfEDv492Ez0NPAPkgE+IiE9E3gdc5Tr3q8BHReQNJpjcIiLvFJG2GY7hG8BvishlJn7xF2iX2EEReb25vh+IAykgb2IkvyYiHcY1NgHk5/A+WM5hrEBYLFVQSu0CPgT8DXAaHdB+l1Iqo5TKAO8DPgKMouMV33aduxUdh/hbs3+vOXamY/gx8MfAt9BWy1rgA2Z3O1qIRtFuqGF0nATg14GDIjIBfNS8DotlxohdMMhisVgs1bAWhMVisViqYgXCYrFYLFWxAmGxWCyWqliBsFgsFktVfM28uIjcAPw14AX+USl1V8X+vwKuNQ8jQL9SqtPs+zDwR2bfn5lq1Jr09vaqVatWNXD0FovFcvbzwgsvnFZK9VXb17QsJhHxArvRfW8G0a0IblNK7ahx/MeBy5VSvyUi3cBWYDOggBeAK5VSo7Web/PmzWrr1q0NfhUWi8VydiMiLyilNlfb10wX01XAXqXUfpM3fi/w7imOvw3dHA3geuARpdSIEYVHgBuaOFaLxWKxVNBMgViObjngMGi2TUJEVgKrKXWdrOtcEbldRLaKyNahoaGGDNpisVgsmmYKhFTZVsuf9QHgfqWU0xKgrnOVUl9RSm1WSm3u66vqQrNYLBbLLGlmkHoQ3dzMYQW6+Vg1PgD8x4pz31px7hMzHUA2m2VwcJBUKjXTUxcdoVCIFStW4Pf7F3ooFovlLKGZAvE8sE5EVqO7T34A+GDlQSJyIdCFboDm8BDwF67Vva5D98KfEYODg7S1tbFq1SrKG2+eXSilGB4eZnBwkNWrVy/0cCwWy1lC01xMSqkc8DH0ZL8TuE8ptV1EPiciN7sOvQ24191bXyk1AvwpWmSeBz5nts2IVCpFT0/PWS0OACJCT0/POWEpWSyW+aOpdRBKqS3opRrd2z5T8fi/1Tj3HvSyjXPibBcHh3PldVoslvnjnK+kzhcKnJhIkUjnFnooFovFckZxzguEUnBqIkUi05w1VcbGxvi7v/u7GZ930003MTY21oQRWSwWS32c8wLh8WjXTKFJFeW1BCKfn1qQtmzZQmdnZ1PGZLFYLPXQ1BjEYsAjgoiQb5JA3HHHHezbt4/LLrsMv99Pa2srS5cuZdu2bezYsYP3vOc9HDlyhFQqxSc/+Uluv/12AFatWsXWrVuJxWLceOONvOlNb+Lpp59m+fLlfO973yMcDjdlvBaLxeJwzgjEn3x/OzuOTVTdl8jk8Hk8BHwzM6g2Lmvns++6eMpj7rrrLl599VW2bdvGE088wTvf+U5effXVYjrqPffcQ3d3N8lkkte//vXccsst9PT0lF1jz549fPOb3+SrX/0qt956K9/61rf40IfsKpIWi6W5nDMCMTVSs8S70Vx11VVltQpf+tKX+M53vgPAkSNH2LNnzySBWL16NZdddhkAV155JQcPHpyn0VoslnOZc0YgprrT330yStDnYWVPS9PH0dJSeo4nnniCRx99lGeeeYZIJMJb3/rWqrUMwWCw+LfX6yWZTDZ9nBaLxXLOB6lBxyHyhebYEG1tbUSj0ar7xsfH6erqIhKJ8Nprr/Hss882ZQwWi8UyG84ZC2IqPAJN0gd6enq45ppr2LRpE+FwmIGBgeK+G264gb//+7/nkksu4cILL+Tqq69uziAsFotlFjRtwaD5ptqCQTt37mTDhg3TnnvwdJxMvsD6gbZmDW9eqPf1WiwWi8NCLRi0aPB6hEKzTAiLxWJZpFiBoLkuJovFYlmsWIFAV1M3q1DOYrFYFitWINBZTEqpprXbsFgslsWIFQi0QAA2DmGxWCwumioQInKDiOwSkb0ickeNY24VkR0isl1EvuHanheRbebngaYNUil85PGgbBxiAfjCI7v528f2LPQwLBZLFZomECLiBe4GbgQ2AreJyMaKY9ahlxK9Ril1MfCfXLuTSqnLzI97BbrGUsjRFd1Fl8Sa4mKabbtvgC9+8YskEokGj+jM4rHXTvJP/36gaYWKFotl9jTTgrgK2KuU2q+UygD3Au+uOOZ3gLuVUqMASqlTTRxPdTxeALzkrUAsANmcYjSR5ZWj4ws9FIvFUkEzK6mXA0dcjweBN1Qcsx5ARH4KeIH/ppT6kdkXEpGtQA64Syn13aaMUjwoPHgpNCUG4W73/Y53vIP+/n7uu+8+0uk0733ve/mTP/kT4vE4t956K4ODg+Tzef74j/+YkydPcuzYMa699lp6e3t5/PHHGz62M4FMvgDAT3YPcdl5dv0Li+VMopkCUW2R5MoZ2AesA94KrACeEpFNSqkx4Hyl1DERWQM8JiKvKKX2lT2ByO3A7QDnn3/+1KP54R1w4pXq+zJxOhHEFwLPDIyqJa+DG++a8hB3u++HH36Y+++/n+eeew6lFDfffDM/+clPGBoaYtmyZTz44IOA7tHU0dHBF77wBR5//HF6e3vrH9MiI5PTAvHk7iE+8bZ1Czwai8XippkupkHgPNfjFcCxKsd8TymVVUodAHahBQOl1DHzez/wBHB55RMopb6ilNqslNrc19c3+5GKVrNme8EffvhhHn74YS6//HKuuOIKXnvtNfbs2cPrXvc6Hn30Uf7wD/+Qp556io6OjiaP5MwhbQTi54dHGU9kF3g0FovFTTMtiOeBdSKyGjgKfAD4YMUx3wVuA74mIr1ol9N+EekCEkqptNl+DfD5OY1mijt9NbSHdCZLqmMtPa3BmsfNFaUUd955J7/7u787ad8LL7zAli1buPPOO7nuuuv4zGc+07RxnElkcnkuWdHBy4Pj/Pve07zzkqULPSSLxWJomgWhlMoBHwMeAnYC9ymltovI50TEyUp6CBgWkR3A48CnlVLDwAZgq4i8ZLbfpZTa0ayxiterYxBNCFK7231ff/313HPPPcRiMQCOHj3KqVOnOHbsGJFIhA996EP8wR/8AS+++OKkc89WMvkCr1/VTXvIx5O75z9HwWKx1Kap7b6VUluALRXbPuP6WwGfMj/uY54GXtfMsZXh8eGlQL4JPiZ3u+8bb7yRD37wg7zxjW8EoLW1lX/9139l7969fPrTn8bj8eD3+/nyl78MwO23386NN97I0qVLz94gda5A2O/lzev6eHL3EEopRCrCV7EhGDsMK65cmEFaLOcodj0IQDw+nebapFz8b3zjG2WPP/nJT5Y9Xrt2Lddff/2k8z7+8Y/z8Y9/vCljOhPI5QsUFAR8Hn5xfR8PvnKcXSejXLSkvfzAp/8afv5/4A8PLMxALZZzFNtqA8DjxSOgCvmFHsk5hZPiGvB5eMt6nWTw5K6hyQfGhyE9MZ9Ds1gsWIHQiDGkrEDMK06Ka8DrYUlHiAsH2vj3vacnH5iegELO/n8slnnmrBeIulbMM9XUonJNHk3zWIwrAzoC4ffpj+G6gVYGR5OTD0yZKutcer6GZrFYOMsFIhQKMTw8PP3k6VncFoRSiuHhYUKh0EIPZUY4NRBBr/4YdkUCjMQzVQ407qW8FQiLZT45q4PUK1asYHBwkKGhKn5tN/ksRE8x7kkzPjI8P4NrMKFQiBUrViz0MGZEJl+gjzFa82PAeXS1BJhIZckXFF6PK5MpZQTCWhAWy7xyVguE3+9n9erV0x8YPQH/6818MfhR/tOd/6P5A7MA2sX0V/67WffSAFz9HboifpSC8WSW7pZA6cC0FQiLZSE4q11MdRPuAiCUs5ky80kmV6BXJogkjgIURaHMzaSUtSAslgXirLYg6sYXJOMJE7YCMa9k8gU6SRNM68B0Z0QLxFjCJRC5NBRMjyYbg7BY5hVrQRhSvnZaChOLMhtosZLJFQhLBn96BAoFuiNVLAh3/UOuSgDbYrE0DSsQhnSgkw5ipLKFhR7KOUMmVyBEGlEFSI7SGfEDMObu6ppyC0RqnkdosZzbWIEw5AIddEqMeGbx1kIsNtLZPBGM2yh+ii4nBuF2MaVdK81ZF5PFMq9YgTDkg510EieRXpy1EIuRbC6NT4zFFh+iJeAl4PUw6haIMgvCCoTFMp9YgTAUQp10SpRY2loQ80Uh7VpvOz6EiNAZ8TMWd7mY0lYgLJaFwgqEQ7jbWBB2VbP5olwgdA+m7pZAuYvJWhAWy4JhBcLgiXThlzzJ+Pj0B1saQiEdKz2I6cWCOiP+8jRXtwVhYxAWy7zSVIEQkRtEZJeI7BWRO2occ6uI7BCR7SLyDdf2D4vIHvPz4WaOE8Db2g1ALrY4W20sSrKuxnxx3Q6lu6WiH5O1ICyWBaNphXIi4gXuBt4BDALPi8gD7qVDRWQdcCdwjVJqVET6zfZu4LPAZkABL5hzR5s1Xl9LLwDZ+EiznsJSgSoTCO1i6owEytNc0xOAAMoKhMUyzzTTgrgK2KuU2q+UygD3Au+uOOZ3gLudiV8p5SxKfD3wiFJqxOx7BLihiWMl2N4DgKohEP/tge382/OHmzmEc49sHADlDRYtiK6In7FktrS6X2oCIvp/Y+sgLJb5pZkCsRw44no8aLa5WQ+sF5GfisizInLDDM5FRG4Xka0isnXajq3TEGwzk1ByspGSLyi++dxhHtlxatI+yxwwFoR0ng9x/d52RQLkC4poymSTpcfBWHfkbSW1xTKfNFMgpMq2yj4WPmAd8FbgNuAfRaSzznNRSn1FKbVZKbW5r69vToMNtOlJSKoIxNHRJOlcoTx4apkz4riYOs8vupi6TLuNYi1EOgrBdvCFrAVhscwzzRSIQeA81+MVwLEqx3xPKZVVSh0AdqEFo55zG4qYjq7e9NikfXtORQHKC7gsc0ZyJs21ayVkYpBJlDq6Ou91agJC7eAN2l5MFss800yBeB5YJyKrRSQAfAB4oOKY7wLXAohIL9rltB94CLhORLpEpAu4zmxrHr4gCUL4MtUEQqdjlgVPLXPGk3MsiJX6d3zI1Y/JsSAmjAURtBaExTLPNC2LSSmVE5GPoSd2L3CPUmq7iHwO2KqUeoCSEOwA8sCnlVLDACLyp2iRAficUqrp6UVRaSOQmVwHsdcRiGQWpRQi1TxglpnizblcTADx03SbeMOoU02dmoBgmxYIG4OwWOaVpq4HoZTaAmyp2PYZ198K+JT5qTz3HuCeZo6vkrinjWBuskA4FkS+oJhI5egI++dzWI3j2S/D6CG48a6FHgkAnryxCDqMNzE+RGfPJYA7BmFcTNaCsFjmHVtJ7SLhaydSsWiQUop9p2K0h7SWLupA9e4fwa4HF3oURbz5JCmC0NqvN8SHaA/58HpEC0Quo0Uh2GFiELYOwmKZT6xAuEh524nkywXixESKWDrH5lW60np0McchEsM6K+gMwZdLkpYgtJgMtPgpRISuiJ+ReLbUZqNoQViBsFjmEysQLtKBDloL5RPonpPavbR5lc5yWtSZTHEjEGfIqnm+QoqMJwSBCARaK6qpM5Ay7j4nSG17MVks84oVCBfZQCftxMomUCf+cJWxIJrmYhreB59fo2MEzUApSJyGQq68B9IC4i+kyEhQP2jpLfVjiph+TNaCsFgWFCsQLvLBTnzky9wwe0/F6Ir4WdvXCriyaxrN0GvaBTS8tznXz8RKWUBniJvJX0iT9YT1g5b+okDojq7ZUqO+YLuNQVgsC4AVCBf5UCcAOVc/pr2noqzrb6M97EekiRaE0/o6E5v6uNli3Df6uc4MgQgUUmQ9jgXRB7FSR9fRhLUgLJaFxgqEm5COM6SiejJVSrHnVIy1/a14PUJH2N+8ILUzGaabJBAJVxvz9Jmx5kVApch5Q/qBy8XUGdECoWwMwmJZUKxAuJCIjjNkJvRkOhzPMJbIsq5fu5e6zMTVFBzLIRNvzvXLBOLMsCCCKk3O4whEn4mRFOiK+MnmFRln8aaQTXO1WBYCKxAuvC1GIIwF4WQwrRvQAlH0jTcDZ9LONGnyPgNdTEGVJueL6Aet/aAKkByhy/RjSsVM40SnktoKhMUyr1iBcOFr0S2/nRjEXtOk7wKXBVG22lkjSc+jBZGaqH3cPBJSKfJuFxNAfKjY0TUTHwN/BLx+KxAWywJgBcKFv01bEIW4nkz3nIrRGvSxpF1PYpPWS24kzl1902IQZ54FESJDwetkMTnFckN0t+hWJrnEuLYewMYgLJYFwAqEi5ZIhKgKQ8KxIGJc0N9abM6nYxBNcjE5rqWmZTENQ8TcpZ8BAqEKBUKkKfgcC6LUbqPTWBCF5LgOUIOOQeQzUCgswGgtlnMTKxAuIgEfI6oNSQ6z91SMV46OFwPUoJfDTGbzpLL5xj95uskCkRiGtqV64Z0zIIspm83gkwLKiUE4FkRsiG4jEMVGfaAtCLAdXafilfthx/cWehSWswgrEC5agz5GaSM+epJbvvw0QZ+H337z6uJ+5862KYFqx7XUTBdTS4922ZwBFkQ2qV+n8hsXU7gLxKsb9pmaE4+zmhyUBMJ2dK3Ns1+G57660KOwnEVYgXARCXoZVu1ko0P0tAb4zu9dw0VL2ov7ndXOZpzqmk3ByIGpj2m2BRE/rV1MwfYzQyBSOhhfFAiPp1gL4dSc+LJRa0HMhFzaCqiloTRVIETkBhHZJSJ7ReSOKvs/IiJDIrLN/PwH1768a3vlSnRNoSXgI+ppZ6kvzrf/v1/gvO5I2X5ntbMZC8TWf4IvXzP1kplNr4MYgYixIM6ALKZc2rxOf0tpY0tfMR23OxIgkIuVxyDAToBTkUvpmxGLpUE0bcEgEfECdwPvQK8x/byIPKCU2lFx6L8ppT5W5RJJpdRlzRpfNbwe4brNGwm/9Bzi+MFddM3WxTRxDLJxHQdoX1r9mGIWUxPu7nMZHXdo6T1jXEy5lCMQ4dLGll6IHge0GAfjMV0kBzp2AnZd6qmwacCWBtNMC+IqYK9Sar9SKgPcC7y7ic/XECJdA0guWfVO3hGIGVsQTssI00piEko118Xk1EBEevSEe0YIhH6dEnBZaUsvgxOvQDpGX8RDSKVdMQgj2DbVtTa5lBUJS0NppkAsB464Hg+abZXcIiIvi8j9InKea3tIRLaKyLMi8p4mjrOciC6WKyssMzguphlbEE6fpVoCkYkDSgdpm+FicgvEGWJB5NMJALxugVh7LRSycOinDATNe1yMQTgWhHWh1CSfhtyZ0crdcnbQTIGQKtsqV6r5PrBKKXUJ8Cjwdde+85VSm4EPAl8UkbWTnkDkdiMiW4eGaky+M8WpFagiECG/l7Dfy+hMq6kdn7+73YUbx2poHdATYD5Xvv/4S5CfQ+aUUyRXdDEtfJprPqMFQoKuGMR5V2sh2PcYvX5zJ1yMQRgLwrqYapNLWwvC0lCaKRCDgNsiWAEccx+glBpWSjmf6K8CV7r2HTO/9wNPAJdXPoFS6itKqc1Kqc19fX2NGbVjQcQnCwToWogZF8s5FkSihkA4d/RtS/Rvdz+m6An4h1+cW367I0yRnlIW0wKvKlfIOBaESyD8IVh5Dex7nB6fthTyxUpqa0FMiVImSG0tCEvjaKZAPA+sE5HVIhIAPgCUZSOJiDtiezOw02zvEtFLjYlIL3ANUBncbg4ttS0I0LUQ/vGDMD5Y/zVT07iYigJh3g63myl2ElDm9ywxleE6zbVNN8XLJmZ/vQagTBaTN1ieKcbaa+H0LpZn9cp6STECUoxBWAuiKs77UshCoQmFnJZzkqYJhFIqB3wMeAg98d+nlNouIp8TkZvNYZ8Qke0i8hLwCeAjZvsGYKvZ/jhwV5Xsp+ZgWn7Xutvvivj4xIk74Aefqv+a08UgKi0Id7FccrT8mNmQOA2ILkZz7sgXONVVZY1AhFrKd6y5FoALhh8DIIbJcrIWxNS43xfrZrI0iKaluQIopbYAWyq2fcb1953AnVXOexp4XTPHVpNQpw4W17AgNvoGWZY/BhM99V/TmdxruK2KMYiiBeEWiLHya8yGxDCEO8HrK6WNpqNAjZTbeUBltCvEF6wQiIGLoaWfpaf+HYAJFWEJuOogrAVRFff7kktBIFL7WIulTmwldSUi2ldfI6D8xtRP9R+14gmV5LMld850FkR7FYFINUAgnCpqKFkQC5zJpMx74q90MYnAmrfiLei74PGCsRxsq42pKbMg7HtkaQxWIKrR0lvTgnhd9CkAVPx0fYFe90S8YC6m4VJspSgQC5vJJNkECRUk6PdO3rn2l4p/juSNgBRbbVj3SVXcbiUbqLY0CCsQ1Yj0VBeI4X30JfYyqHqRQrZUADcVzjHhrpqiMzlI3QQXk5Od5aSNLrAFIbkkSQIEfFU+gmveCkBa+ZnImmzpogVhBaIqNgZRTi4N9/8WDO9b6JEsaqxAVKOWQLz2AwDuzelAas0J340JUJ/0LdcTf6ZK9lAmBh5fyQ3UFBeTIxBnhotJskmSBAl4q3wE25eS772ICcJMpExNiNcKxJS43xfrYtLNMV/9Fhz66UKPZFFjBaIatQRi5/eZ6NrEK2qNflyr8M2NyRZ6ZszcuVeLXaSjEGiFoFl7Il3FgphtC45CodzF5FQmL3AWkyeXIqmC1S0IQN7wUbbk38BE0tScWAtiavJWIMpwvi/W3TYnrEBUo6VX1w6488knjsHg88RW38CwMnfh8SG+/MQ+/vaxPbWvZSyIg8rEF6qJStp0LfVHACmvgyjGIGYwoR94Co5tM+eNg8qXLIjAmWFBeHOJ2i4mwPP63+Qvvb/DRMoIhIiuprYxiOrYIHU5zufbCsScsAJRjUgPoEp37wCvPQiAuuhdjCh9F37s2CD/86HX+MHLx2tfy9ypHyxogRg7fWzyMekJbT2IaEtiri6mH/xn+Pbv6CC6k1rruK+8Pi1EMxGcJuDJp0gSxOep1pFF0x72M5F0tR3xhawFUYuyILUVCCsQjcEKRDWKDftcd/s7vw+962ldcTHDaIF4cttOCgrimVyVixjMRDwa1l1Hnt++e/IxmVgpNhBsLRcDd5C6nqwppWDiKJzeDYefcfVhctVtBNsXXCB8+SRpgsX1vqvRFvKVLAjQFoQViOpYC6Ic5ybLNi+cE1YgqlHZ0bVQgMHnYe0v0RbykfMESRAmMXqS7pYAifQUrQ2MBREeWAfAa/sOkMsXyo9xYhAAgZYKF5MRiEKuvskxNV6qu3jha+WdXB3OgI6uvnyStCc45THagnAJhLUgamOD1OU4cTxrTc0JKxDVKDbsM3ffowf0pDuwCY9H6Az7OV1oZU0kwfsuX04sPZUFMU6aAL6WbvLeIIH0MI/sqOirlHZZEG4XUyGvYwjOeOqZ1M2CO7Qthe3fheG95jX1lo45EwSikCIroSmPaQ/5iKbcLiYbg6iJFYhyHAt5gXuOLXasQFSjsmHfye3698DFgF4XYpgOrujJ0xbyk84VJlsFDqkJokToiATwtPZxfiDOPz9zqPyYdLSUwRRsK939ODUUHaYpbj1uoQkT43jTp/Rk+rOv6MduCyLUvuBZTL5CmvS0AuEvdzH5Qnbyq0WZQFgRLbmY7OdlLliBqEZlDOLkdhAP9F0EwJsu6CXSOUCHGqclqCuB45nqbiaVjjKhwnSE/UhLHxs7szyzf5hn9rnSaDOutZcDLaUPt5PB1OkIxAwsiHXvgOVXwsSgDkq7e/OcARZEoJAi65lGICpdTN6A7cVUC/dEaAOzLheTfS/mghWIaviCOh3UaZN98lXoXlucZP/k3Zu4cM1qiJ+mJaj7HSYyORg7UkovNeST40WBINLLeYE453dHuPPbL5PM5EvLjRZjEC4Xk5PB1HG+/l1PLcSEy8V05Uf03273EpTWhFgolCJQSJHz1uFiSucoFExw3loQtbEWRDk2i6khWIGoRaS73MVk3EtFWnq1QASMBZHOwaOfhft+o+ywfHKcqIpogWjpw5M4zV23vI6Dwwm++Oju0nKjZVlMjgVhBGJGFsQxCHfrxXcufp8WOqeFucNCZzHlM3go1GVBKAUxJ0vMF7DrQdQil9JWrjdoM3fAFso1CCsQtTACQDqmg9QDmybvL2RpF/0BjKfzOlr5lM8AACAASURBVLV04pjOejKo1LiOQYT9pgDvNL+wpofbrjqPrz61nx0Hj+oDg24LwmQxORZEp7Eg6hGIiePQvqx0zRv/B7zho+XHOC6mQo24SbMxgcPpLQi9BnjRzeQNWguiFrmUtrD8NtMLKH1XrFjOCSsQtXDabZzaqR9XWhDGbdOp9CQeT2V1/5dCFpIjxcMkHSWmwnREjEDkUpCJcceNG+htDfKFH7ygDyzGIFohG9eTtxODmEmQOnqs1PQP4PJfg8tuKz8m2AYo/TwLgbmry3nDUx7WFtLuu2Imky9oYxC1yGf0+2PdcJqii8m+F3OhqQIhIjeIyC4R2Ssid1TZ/xERGRKRbebnP7j2fVhE9pifDzdznFWJmJbfJ1/Vj6u5mIC2vM40ykSHSmZt9ETxMG9mwmVBmHWz40N0hP380S9v5NRpEwh3YhCOJZGJlVxMHSv077otiOoLAd39+F7u/PYrC9+PyTQsLExnQYQrLAiftSBq4lgQvtDkSXHHA/DYny/MuBaKoovJprnOhaYJhIh4gbuBG4GNwG0isrHKof+mlLrM/PyjObcb+CzwBuAq4LMi0tWssVbFiUGc3K79+I6bx8EIREtOT+Ke0f2lfY5AFPL4cgmihCsEQsc2rts4QJfPuAOKdRBmhbVMXLuYfGHdKly85U38qpHP6jUn2pZN2pXJFfjKT/bzrRcGyfrMcyxUoNp8aQu+qS2IooupaEGEbAyiFrl0bQti5wPws39YmHEtFGmb5toImmlBXAXsVUrtV0plgHuBd9d57vXAI0qpEaXUKPAIcEOTxlmdll49kQ0+r62HypYQxsUUyWk3kG/8QGlfzAiEcQkVg9TFAjy9cFDI7+X1S/QkqBxhcJrpZWLaxRTu1M9dT2pq7CSgqloQT+0ZYjyZJZMvcDBmFulZMIHQLqZpBSKsXUylGESgeV/4p/8Gjr7QnGvPB7mUjtH4qwhEJq4LLs+lgK3NYmoIzRSI5cAR1+NBs62SW0TkZRG5X0TOm8m5InK7iGwVka1DQzVWa5stzmR+/KXJ7iUoWhDBjI43hCYO6SwSKNUiGBdOTCK0Bn1lLiaHK5bqSbA4aRdbfke1iynUabbXIRDFFNfJFsQDLx0rZlztcEIkC7Wq3IwtCMfFFGpODKKQh0c+A8/f0/hrzxdTWRCOuyV2cvJ5ZyNK2SymBtFMgajWha2y29z3gVVKqUuAR4Gvz+BclFJfUUptVkpt7uvrm9NgJ1GsHVDVBcIfhkArgZSebcOxwzqYHOqEqPkiGgsi72/TTemcCm2XQFzco1/qkwfNl7rMxTSuLQgwAjFNzCBqqqgrLIhkJs8jO07yrkuXsbInwksnTfbSAruY8NcXpC52dPU1yYJIjYMq6Cy0xUoubWIQwclZTE5WXPQsFYjKbDwndTzQppNG8lO0wrFMSV0CISKfFJF20fyTiLwoItdNc9ogcJ7r8QqgrNe1UmpYKeV8mr8KXFnvuU3H3ZqiMsXVdYwkhokEvLQnj0D3ar2utONiMhaEcjKUjKi4FyPq8OiX//A+8yUOuIPUozr+AFogpiuUcxfJufjxaydJZPLcfOkyrjy/i+dOmDvyBXYxKX/LlIf5vB4iAS9RtwWRT9fX1XYmOP+P07sbf+35omhBhCffNTsCcTZaEMdfgj8f0BmEDs7nutXcNNpU11lTrwXxW0qpCeA6oA/4TeCuac55HlgnIqtFJAB8AHjAfYCIuGeymwGTU8pDwHUi0mWC09eZbfOHWyD6N1Q/pqUX4kNEAj66UoPQvUYLRLQ8BlFMYXWdUyQdJS9enj0cYzSecS0JGpu5iyl6TPvp3WMHHth2jP62IG9Y08MVK7s4FNN35guWxVS0ICJTH0dFPyZvQP+uEqguFBSvnZjl63EEIjVW/r9ZTBSzmKawIM5GgTj6ov48OE0poXQj1dKvf1s306ypVyAcl89NwP9WSr1EdTdQEaVUDvgYemLfCdynlNouIp8TkZvNYZ8Qke0i8hLwCeAj5twR4E/RIvM88Dmzbf5w1k/oXFlKC510TB8kTrMkkCSSn9AC0brE5WLSE7o30ll+jnsSysRQ/lYKSvjJniGXiymmJ6zwDGMQbUvKAurjySxP7BrinZcsxesRrji/izihsvHNO84Xth6BCPtcLiYz7iqFYE/sPsUNX3yKQ8OzqO1wLy+7WN1MjgXhD0++Yz6bYxCjB/Vv9/+w0oKwAjFrfHUe94KIPAysBu4UkTZg2jJcpdQWYEvFts+4/r4TuLPGufcACxc1DHbo1NJa7iXQcYrjL7PWayb87jV68o+d0K4K043VF+kondPSp3s2OaSjeMPt9OQD/HjnKd590Vq9PTmqv9iOiynQWocFcXxSgPqh7SfI5AvcfKnefuGSNsIBP2lPmOACCYTKxBHAE5g6BgEVFsQU61IfHdOxiZMTaVb2TO26mkSlQKx608zOPxPIpYyLaaoYxInJ5y12xkxn5ITr/tH5XDsWhE11nTX1WhC/DdwBvF4plQD8aDfT2YvHA5feBpf8au1jWnogPsQaj/nida/R/v98Rk/wxsUUaHEJRKRnkotJgm1ce1E/T+w6xcun9GQ4dNTUVRRdTO2T6iBOTaRI5yrWzXYFqJVS3PvcYc7vjnDZefo6Xo9w+fldRNXCLTuaT8cpKMFbj0CEqwhElTUhxhPa7VTW/bVeHIHwBmBokVoQ+YxxMYUrVpfLlFxysVMLM7ZmMuoIREV3ZChlDdpiuVlTr0C8EdillBoTkQ8BfwQsUI7kPPKeu+Hi99be39IHhSzrlZnMu1ZB64D+O3oclZogo7y0RFrKz0mcLgVD01EItvH2DQNMpHLc/HfPklBBtm03a1C4XUyZUv+kRCbH27/wJH/zY+N7VWqSBXH/C4O8eHiM33vr2rKlPa9Y2cVoPkQuuTD/wkImQZIAAZ932mPbQy4Xk7e2BTGa0MIwPluB8IV1rGnRuphcFoS7ktrdTiV2FloQjosp6bYgjEAUXUzWgpgt9QrEl4GEiFwK/BfgEPDPTRvVYsGkwq7LvsaQ9Gj/r5NBFD1BNjFWXCyoSEufXj7UWa0uE4NAK9dtHOB//+br+cff2Iw31MYKMfvdWUzO8cBPdg8xkcrx9D5znLPUqLEgRuMZ/mLLTjav7OLWze6EMLhyZRcxwkTHRxv7ftRJIZ0gSZCAb/qPX1vI78piqi0QY0YgyhYYqpfEiLbsetfD6T0zP/9MoJjmauognBsQx70k3rPPgkhHS8JQFoMwlnExSG0tiNlSr0DklFIKXQn910qpvwbamjesRYKpa1iZ2sURluhtbcaCiJ0kF3e1+nZYbjJ5DzypfxsLwuMRrr2wn7dvHCDQ0s4yMR/4oovJVUAH/OhVfTf46tEJUtl8+VKjwF0/fI2JVI4/e69eJtXNZed1EiVMKjbWgDdh5hQycVIE6hKI9rCPiVQOpdTULqZkxvyeRiD2Pzn5jjIxrFur9F4I44fL1wRfLDgWhD8EqJJbyXktXSu1QBSmWD99sTHqWpnRHYOodDHZGMSsqVcgoiJyJ/DrwIOmz5J/mnPOfkw6qV9lOKCMMLQaoYge12tBOH2YHFZs1uftNlm76Vhp8jdIoIUOMV9st4sJIBMjkyvw452nWNIeIpMvsP3YeGmp0fZlPH9whH/beoT/8KbVXLRkcgZWR9gPgXYKC+RiUtkkCRUk4K1DIEJ+8gVFIpOf0oJwXExFd1Q1oifhn2+Gl+8t354YNhbEOv3YnTK5GCgUtCB4g65MLzMpOpNl9xpQ+fI77cWO415qW1YRpI7prgbOOig2i2nW1CsQ7wfS6HqIE+i2F/+zaaNaLLSUqrf35/r0XW4gojOgoif1WhAqUuxKCoDHC+uugz0P6wrPdLS8TgJK/ZigPEgNkI7y9L7TRNM5PvWO9QC8cGi0zIL48wd3srwzzCffvq7m0MPt3bRkR8hkFqD5XaZ+F1Oxo2sqO2UMYixRhwXhrPE9drh8e1Eg9Pu56NxMjrXgcwmEYyU5FkS3yY47m1JdnQym5VdUxCCi+jvkpFFbgZg1dQmEEYX/A3SIyC8DKaWUjUE4rTOAA4UB0jmT+ds2ANHjSFq3+u4MB8rPW3+9rnE48mwxBlGG26KotCDSE/zo1RO0Bn3cfJlunfHiobFiFfXhbAfbjozx4V9YSSRQO4vZt+FGOiXGwcfmP5NYZZP1u5iKiwblpqyDcIRhyhiEE7B1Ks4d4kYgetbqO8+hXdO/iDMJx1pwYhDubY5A9BiBOJvabYwe0jdO3Wu0BVGMuxir3GnlYl1Ms6beVhu3As8BvwrcCvxMRH6lmQNbFPjDYNpFHFJLiKWNe6NtCcRO4slETZC6whu39m3g8cGr36ZsuVEHUywXUyFymEwfIyL51AQP7zjJtRf1E/J7ufL8Ll44PIqa0EuN/miXDjzfuKn6mhAOF77lVl5Va+h78a91m/B5RLIJkqpeC8L0Y0pldS8mmBSDUEoVg9RTWhDOneTE0dK2fFY3LYz06DvwrlWLL5PJEUwni8m9rWhBrNG/zyYLYvSgLmSN9OjPhPNaTVyvKBA2SD1r6nUx/Vd0DcSHlVK/gW7l/cfNG9YiwlgRh1Q/ibQJALYugehxfNkYUVURgwBdmb3yGtj+Hf24IgbhiME4LZyMlq8XcfDoCUbiGW7cpGMdV6zsYiiaJjUyCO3L2PLKCTYtb+e87qmrlCNBP48O/BZdmWOobd+Y5YufHZJLkiBIsI4YRJuxIKKpbE0LIpbOkSvou8cp6yDMQkVFdxyUfNeOv3oxZjK5LYjiXbMRQ3cMAs6uVNexQzr47rSWcdxMjlXudAu2aa6zpl6B8Cil3DlywzM49+ympZd0sIcYEeIZlwURPUkgHycmLcU222VceGPpA10ZgzBiMK5aOT6WLNu2+/Bxgj4Pv7hexz+uXKnTYNMjg6TC/Ww7Mjat9eDQd8W72FZYS+6J/zmvS3n6UsOMq5Y6XUyujq5OL6YKgXCsB69HphYI507S7WJygrbOJNO7XgepF1O2Tz0WREuv/pydLamuSmkXU9eqkrg7/8t0VN90eTz6M1NpQcRO2aVr66TeSf5HIvKQWSL0I8CDVLTQOGcZ2ES07woA4m4XUz6NoMj6WsuK1Iqsv770d2UMwriYxlULx8bN3Y8RiMPHT/KW9X20BPXEuX6gjY6gEIwe5kBWT3KOdTEdb9uwhC/mbsEfPQIvzZMVkY4SSA1zRPXPPEhd6V83OAKxvDNcWn2uGs5EkYmW2jFUE4h8uhQAXQwULYig667ZsSCMQPhbdBHnYmq3ER+GA09V3xc7pa2kTpcF4ViD6VjJbeuvqCxXCu5+Azz9peaN+yyi3iD1p4GvAJcAlwJfUUr9YTMHtmi4+UscevtXAIhnzF1nW2mCLgRqlIt0r9F591AlBlFyMR1zLAivn4I3hEpHi9YD6LvmX+k/RrgQY0t8PRctaWNNX4Xg1GBJR4jTS97Mbt+F8JP/NT99803u+iE1UGehnGtVOV/1bq5jpgbi/O6Idjfla7QJc99JOlZENYGAxeVmKmYxhSa74TIxvc3r0wKxmCyIp78E//Leyes9QEnAu1ZC2LEg3C4m853yhcv/75m4ttwX8+qB80jdbiKl1LeUUp9SSv1npdR3mjmoxUaLmcSKFkRrHQIBJSuiMgZhHse9bSUXE5D1tdBGko3Lyl1SNwReIqu8fO3kam6o03pwePvGJfxl8iZdILb3kRmdOytM7vph1V9XHUTQ5yXk92jLYBoL4vweHXeJ1rIi3OmOzuJKkwTCpAYvpkymMgsiWL4tEy91CG4baF4MQqnGr6Vxaqde8KdaFpJTJNdZJQaRnih9p/zh8hiEU2V9aieW6ZnyGyoiURGZqPITFZEFWkzgzKMlUCEQLgtCarUKB7jyI7DhZuipqFcwFkQh0FFyMQFJidAiSdYPlIvOxtgz/KxwEVEV4abX1Rd/cHj7hgEey19OMtgHL3ytvpMKBdjxwOwsjlG9sMuhOl1MoAPVE0l3HUSFBWFqIFaawHzNTKZMNQuiIkgd6dYtVBZTsVzVILVLIJyFmVoHmpPmms/BFzbAS/dOf+xMGHpN/65Wx+AUyXWeb1LBRYu9UlVcTK7znTVQRg+Wfx4sVZnyG6qUalNKtVf5aVNKTTHznVs48YCSBTFQ3OcNd1Q7RdOzFt7/L7q4zo0RCIl0llxMwIQK0efP6PWtHUYP0jK+h8fV5azpa2Fdf33uJYeLl7XT297K42FTvDd+dPqTdj0I9/06HHhiRs/ljDfta2OC1roFoj3k01aBxwMef20LwghEzVqIbILiMiZuCyLQVrrzBmjtX1wVx447yRuoYkHEShZE64CuBanoCjxnMlGdGXZ8W+OumU2WChqrpamOHdSvJxDRxaehDi32uZSuGA+4LQi3QDjdA9TiS2deAJqaiSQiN4jILhHZKyJ3THHcr4iIEpHN5vEqEUmKyDbz8/fNHOdcaQnqLKViDCLYWvSB+tyLBdWLMY/9Ld0cd1kQI7kgfYGK7IvdDwMQ2fROPvqLa6sHxKdARPilDf381cjVel3mn//rtOfkd/wAgPT4LNwVIweIhlcAEPRO380VqrT8rohBjCaytAS89LTqybGmBZFN6EyeUGepNYnTh8lNuEuv5rdYKCuUq0jtdLuYWkt9whqKcyc+0cBVgU/vobgMfVUL4pB2LzlEevT/0kk+CLpjEFVcTFCyUCw1aZpAmH5NdwM3AhuB20RkY5Xj2tCryf2sYtc+pdRl5uejzRpnIwh4Pfg8UrIgAGXcTP6WWQiEufsJtXUzEs+QyuZJZfOczgTo9Fb4Y3f/CHou4Pc/cNOkrq318ovr+9iT6WFs6ZvhxX+eOsUzn6Ow64cA7Nx/uPZxtRg9yHhIC0T9FoS/lL7qC062IJIZOiOBYr1JzX5M2YS+o2xfVh6krliiVQvEwnS6nRU5d6uNaWIQ0ASBcBYkOj71cTPBfXdfbU1pJ8XVIdKtYxCVAuEPlVsgKVf/MRuHmJZmWhBXAXuVUvuVUhngXnQ32Er+FPg8sGirWUSElqBPN5Qz5E2r4VBr18wvuOR1cPV/JL3yrQAcH0+x91SMKGFa3G9TOgYHn4J111e/Tp1cvaYHj8BT7e+EiUHY++PaBx9+Gn9Gf8lGh2ZoQRTyMHaY0aBes6JugQj7S+mr3skrpo0nsnRG/MWq6yljEIGI7njrdjG5WqYA2qe9qASiWqsNVx2E424prlXS4EC108Kkkdd1JwlUWhD5rP6cdlVaECOlwkC3i8l9Q+EIRKTHWhB10EyBWA641tZk0GwrIiKXA+cppX5Q5fzVIvJzEXlSRN7cxHE2hJaAt9RqA0iH+8kpDy0ts+iK7gvCDX9BX78OOB8bS/LaiSgxFSZUcLWiPvCkdresn5tAdIT9XLKik6+PbNQ99KcKVr/2IBkJEFVh4uNDtY+rxsRRKGQZDizHIzpFtx7aQ77SpF9lSc3RRIYutwVRMwaR1A3c2peWB6kXvQXhKpTz+nQbF3clddHFZJInGp3q6rYgqqWkzobTboGoiEGMD2p3qNvFFO7W/8uiBWEEojLN1RGI895gLYg6aKZAVPv2F/PgRMQD/BXw+1WOOw6cr5S6HPgU8A0RmRQUF5HbRWSriGwdGprhZNVgtAVREojx3it5Ua2jPRKY4qypWdap7waPjSV57fgEKU8YT8YVYNz9I+1TP/+Ns34Ohzev6+XFwRjpTe/X1602QSoFrz3Iz+RShlQHKjFS5lablhGdwTTsX1q39QCwureFkXiGIyMJE4OoqKROZumI+An7vfg8MkUMIq4Fom0ZxE/p7JtqLqZQp55gF0uLBrcF4fwusyCMQIS7tHg0OtXViUEUcnq1xEYwtBvazf1kpQXhZDBVdTGZ74c7i6kyBuENwNLLdC3FYlz7Yx5ppkAMAm6n+ArAHcVqAzYBT4jIQeBq4AER2ayUSiulhgGUUi8A+4D1lU+glPqKUmqzUmpzX19f5e55JRL0EUuXXEwHVt/GrZnPTu7DNAOWdOgv/PHxFK+diBJq6UTyaf3lL+R1gHrttaUCsjlwzQW9FBS8HNqss0AGt04+6MTLMH6EB9KXkwt20UmMlwdnsKaE+WKf8i2tqwbC4R0btWvkoe0nqloQ44ksnWE/IkJH2F+73UY2aWIQS/Ud6NghLRrVgtSgO+4uBtwWBGiBcFdSOwLh8TSnWM5909KIOEQ+p9OMl16mH1cKhOPKai8tr0ukW1sKznrvAbdAVGQxBduh/yL9eDHVuywAzRSI54F1IrJaRALAB4AHnJ1KqXGlVK9SapVSahXwLHCzUmqriPSZIDcisgZYB+xv4ljnTGvQS8J1N+3cxc5FIII+L72twaKLqa3DTGTpmI4TxE7Axe+b07gdLj+/k7Dfy0Ojy/XylIefnXzQaw+ixMOP81fQ0dNPp8R48fAMXDGjB8HjY8jTW9d61A4re1q4aEmbFoiKGIRSirFkli5jqbWH/dPEIFpK63affFX/ruZigsXjZsqntWXgMe+pY0EU8nrSdLdyae1vQgyiSn3JXBg9oAvkltUQCCfm4X5dzv/QqbB2F8pV1kGEOqBvg35s4xBT0jSBUErlgI8BDwE7gfuUUttF5HMicvM0p78FeFlEXgLuBz6qlBqZ5pwFJRLwlcUgnEmqs7LV9wxZ1hnilaPjnI6l6eo2ApGJwotf1wVdF940p+s7BH1e3rCmm8cOxHWQ/EhlUhnw2oMca7+cEdrp6hmgz5vg54dncJc9egA6ziOV9xCcgYsJ4IZNS9h6aJSM+MsEIprOkS+o4vtcDGhXq+p1ZzEBnDhLBMJZj9rBFzQuMjNxOxYE6DhEs7KYoBT8nwvOXX0tC8Jxabnrh5x2G07thDvNNZ8pZealxnU35e412tVk4xBT0tQ6CKXUFqXUeqXUWqXUn5ttn1FKPVDl2Lcqpbaav7+llLpYKXWpUuoKpdT3mznORtBakcXUCAsCYGlHiO3HdO52f69xo53eC7t+CJf/WkPcSw5vuqCX/UNxYgNX6l417krpkQNw8lWeCVzNiq4wgbZeOiXKtiOjeiW9ehg9CN2ryeQLM4pBgBYIpeB0krIYxHii/H1uD/lYMvEy3HU+DO8rv0g2YYLUZ5kF4axH7eAPa9FwJu4ygWiCBVEmEA24thOgXnqp/l2Z5uoIn98lEM7/0GnB4VSP+50V9sw10hPaxeT16Q4G1oKYEtuyu0FEAt7yIHUyi88jRKq1+p4BSzvCxb+XDRiB+NmXdZzgig/P6dqVXHOBTvd8xXOR/hKefKW0c8d3Abg/fikXL2uHcDehQpLxWIIjI3Uu6ThyALpWkcnlZxSDALhwoI1VPRGOx1WZBTFq2mw4LqaOsJ/3Rb+hJ4JaAhHp0XePJ8zrOysEotKCSLkEosLFlBhubDvzTFyvxNc60JhiOSdA7SzpO8mCiOvX63F9t5w40tgh/Xo95vPliIgTyE+NaxcT6DjEKSsQU2EFokG0BstdTMfHkvS3BWdc2VzJ8k4tEL2tQTo6zES291FY9ebSMpIN4sKBNnpbAzw0btIHjzxX2vnqt8gv28yzI61sWtZRXAq1kxg/P1LHRJoc1UHfrtVkcjO3IESE6y9ewvG4Iu/KSnHabDgupnUc5uq86dSZrmgXljEuJhHdL2vcZGEveoFIl9bKgFL1cLEmwGVBRHoB1djXlk3oO/a2pY2zIHrXm/UcgpPTXB2hd+P8D6PHy7sjF9foNtdITWgXE+g4xPjhxrceOYuwAtEgIgEfqWyBvFnZbO9QjLUz7ItUjaUm1XXD0rbyD/6VH5nztSvxeIRrLujlB4e8qPYVpUD10G448QqDK3S84+Ll7cU7tiWBZH1xCFdq4mxcTADXb1pCWvlIJ0sTxlhFrOdtI/eSU+baTk486OKqQtZVVexkwIhOa3UTbNOB+sUkEFNaEC6BcIoC43Wmow7vg/9+Hnx+Ddx9NfzL+2DsSPkxTq1F29K5ZzEppdts9JlW+JVZSFBKNnATdhWkui0mf0XrkdR46f9tM5mmxQpEgyj1Y8pRKCj2noqxrn8WRXIVOC6mCwdcAhHugot+ec7XrsZNr1vK6Via/aGNJQvi1W+BeHgmpOsVL17WUfxCXtmn6stkcgtErjBjFxPAZSs68fhDZDNuC0K7mDojARg7wobhR7g//xa90y0QRb+1mTDaTdfbcKf2R7sRWVzFcrl0eQzCF6rtYiourlOnQJx4WVtiq98CHcth348nZ7g5FertS+fuYpo4qgXHWZfDH6mexVRpQXj9EDSuo2A1gUjomFo2XlrBsZjJZAPVtbAC0SCcjq6JdJ6jY0lS2QIXNMCCWNPbQiTg5Y1re7Tv1OODSz9YCr41mOs2DvD2Df3ce2KpbmcwPgiv3g+r3sTzp4P0tgbpbwsWs0Yu6Smw49gEqew0Pm1TJFcUiFlYEB6PsKS7A3Jp0jn9fGPuIPWzX0ZQ/G3+vSikQiDMJONMLI4FUeleclhM7TYqYxB+RyCquJhmakE4E/47vwDv/jv9d6XrLutKH06OTKpTmRHO3fy0FkSVNdcjxopwW9ru9ufOuJ0YRPdq7cJqdCbT6EHY8l/mZwGuJmMFokE4AhFL59h7Sn8x1w3MXSC6WgJs+8x1vG2DaW38Ww/BL/3RnK9bCxHhz97zOl726Lsr9bOv6qKlTbew/dg4Fy9r13EV42K6sD1HrqD41b9/hrfe9RA/+ewv8sITk5LU9Jcm0gOhdtKzFAiApT2dBMgWC/TGEllagz786TF44WscW3ETg6qPQqAV0lGGY2ne+aWnOHDcFIc5AuFYEDUFYrFbEDWymCJGIOq1ICaO6euFu0oT76TYTszEIEwrD7ebaf+TM1udzxGI3ikEwol5VOL8L92LdLmXYHXabDgxCI9XrycxXuEymyu7H4Ln/mHysrVKwYGfNH5hpSZiZWdVDgAAIABJREFUBaJBtJhspUQmx55T+s71gjqX/pyOssl0xebqd08NZElHiF+56XoSKkjhmbvB4yO17pfZcyrGpuXmy2VcTGvb0lx+fichv4d3LE3xFtnG0uf+bPKXYPQgdK0GIJHJz1oglnS3EyTLz/bpCW4skdHxh32PQTbO6Y06syvv0wLx3IERth+b4KX9ZtJy3rv26SyIRdTye1IWk6mknsrFFK9zvYvocR1bEDEBfm+5ZQalmIAjuk6xXCEP//YheOK/1/9aRvZrV5Fj6fjDk4PUmXj174BTC1HVxeQWCNcaLe6+XI3CubGo/PwMPg9ff9fUzTDPMKxANIhIoNyC6G0N0NXSuBqF+eZXXr+ag6ENeFWWZ+QybvnaTvIFpeMPYFIJ/YSyE3zn967h/370F/ivb9J3bssSu2CPa/nSQl5bIV2r+Pc9pzk8kuCqVd1VnnV6QuEWPKJ48YAu9hpL6k6uTvsIX59enS/ja4X0BDuO67vdU8PmSzvJxVRjHIvOgnBnMTkWRBUXky+gJ+C6LYjjJTEV0VbEJIEwE7bznjoWxIlXtLXhuBfrITkCLT36uWByN1YoFTxWUrQgqghELlmyfIKutm7tyxu7jgWUPjepis+Pk+F17MXGPl8TsQLRIFpdMYg9p2INiT8sJCLCysuuBWBP//V0hP28YXU3b1zT4xygJ9eEq8DdrEYXIwI/+XzJivj3v4KJo6j11/P5h15jeWeYD1w1u7UrnDvLg4cPkc0XtAURDugePB4frSYVOO1tgXSUHabI8PRohUDU5WJaJBZEPl0lBmEsCPGWu59AT8D1xiCix7QF4RBqnywQ2Xh1F9PhZ/TvSlfLVCTHyjOS/JEqFkQtF5NjQVRLc61hQbQt1S1rGlkXUsuCcLYff6lxz9VkfNMfYqmHiCuLae+pGO++bNk0Z5z5tGy+DaIH+I33/Ed+ozKtEMwk6haIQRTCF7K38JnBf9H+Vn8EHv8LuPh9/Ig38fLgz/nLX72U4Ax6MZUPSq+z0ZIdZfuxCcYSWZZ1hrVARHppj+jJMOWJaIE4rQVibMx8WZ07yrZl+lr9k9awKr229LgONFZmOc0VpeDkdliyqTHXqxaDKOT0hBhoLd2NO0R667MglNIWxAaXQATbS+s6OzgNAcNd+rmdO/JDT+vfiWGzTnQdN02psfK0Y3fjQYdsDRdTpJqLyRyXTVJsMO1eJ759mX6v4kNla8nPCeemqbLZo/P4xMuNeZ55wFoQDcKxIPYPxYmmcg1JcV1w+i6EW78+OefcIdxdfpc0MUg61Mv/yb+NbKQfHv9z+NZvQftycjd9gb98ZDfr+lt57+XLq1+vHlq1QPTKOM8dGC65mOJD0NJHe8isDy4R8slxjo+n6Ir4SSYq3C2+APz+Lrjk/TVem9PRdQbdautl76Pw99fAwZ/WPiafhW/eVl6sWItqldSgJ6pq/7uW3vpiEIkRbZ20u/5fwbbqBYiBiClANMVySmkLwnHn1GtFJMeKRZhA9TTXTJVCOSjFINxBanerjcosJii5zxrpZprOghg7vGjcl1YgGoTTUuOlQf2hWLfIXUx1Ee6qcDENQvty0gTYueYjuuHf+FG45R/59o4Y+4bi/P51F9a9UFBVTPuFDW0pnt0/Uu5iau3D5/XQEvASJ0wuqSeEGzYtISwm9dLtu/Z4Jt9du18bNOeL7LRS3zlFi7HxI7BrC+z43vTXm1QoZ15j4nR1gYj01GdBOI333C6myhhEIa/dWY7f3ymWG96n/ycXv0dvH61TICotiMospkJei1at1+WM0cHnSnN1xD5YYUFAcwSi0oJwC8bxxWFFWIFoEE6Q+qUj+kOw2GMQdRGpCOSOHyXQsxKvR3g88k7djfO6P0OddxV/8/geLj2vk+svHpjbcxoL4pKuND/de5qCosyCANPRVYWRjJ7IfvmSZYQx6zYb33Uqm+eaux7je9uOVn+eZgqE0yRw15baKY9OZk09Ofq5VEWrjTosiMTw9OmWzhjc6y4E22sUILpiOxPH4LBxL116m/5djwWhVBULokIgnMysahZENReT1wcevx5nakJbF+4eTpWB9UYwlQXhiNgicTNZgWgQXo8Q9nsZTWRpD/noawtOf9JiJ9xdikEoBRNH8XSsYGVPhJ3DefjdJ+GNv8eB03GOjCR5/+bz5tybCn8YAm1cEEmQzunlLTsjAR10NQLREfYzkQ8RyCdY3u7Xa11QbkG8cnSco2NJnj9Yo4t8MwXixCv6jn/sUG0BiNYpEIW89qGXBanNXXP8dHlGj0Ok18QopgnCTxjxnGRBuFxMlbUWjovp0DN6Mjzvai3K9VgQmZhuQjnJgkiUxKzYwryKQCy9VLe/X3FV+XZ/RLfacFp9u2np08WnEzVuFGZKoVB6X6vFILrXaJedtSDOPZxiuQv6W+c+ES4Gwl2mYjehJ9JsAjpWcEFfK3uHSg3Qnt2vJ+Gr18wutXUSrX0s85Wu3+vP6Od2LIiQn9G8FujLl/iJBHz0h0yWipk8XzikJ/5DwxUZMg7OJNVogUiNa2G44jf0411bqh/nCET02NRjqFxNzv13Yri2BQHTxyGixwEpD95WupiqCUQuCXse1kvhejzQtbI+C8K54660IFB6TQf381XLYgp1wG3fLGWoFa9hsrrS4+XuJdDja1vWuFqI9IRerRCqWBAmQ2vJJdaCOBdx+jGdFQHqenBM+uSojj8AdCzngv5WDp6Ok83rL8qz+4fpbwuyurdGsHumtPQTyQyzoktP9j0ec0frcjGdymiXyyV9+n8yEFakCBZjDlsP6kn34HCNNYmNBfHDrTv58hP7qh8zG05u178veAcsv1Kv61EN94Q1lRVRuR61+293c0I39VZTTxzTLj2va02TYLt+zlzFhO08jzM5J06X1krvXFmfBeHccYcqgtRQshymsiBq4WRCuVt9u2lf2jgLwi3mk2IQo/q1Lb0ETu8uLXw0V16+D178l8Zcq4KmCoSI3CAiu0Rkr4jcMcVxvyIiSkQ2u7bdac7bJSLXN3OcjaLFxCEa0WJjUeBkjSRHXAKxggv6W8kVFIeGEyileGb/MFev6WmcVdXaB/Ehrlqtn7+zYIKPRYHwsT+qhWGDGWJfMEecIEoplCo1GDw6miRjXFVlmInk0OBRtrzSQP+0swbFkk1w4Y1wdGv1FtnRYyX30Kkdta9X1YJwiUVVC8Kppp5GIJwqajeOi8axIipjEG2ueMVKIxCOBTFdzMOZXMMVaa7gWmPbeb4Z3Gw4mVDuVt9u2pc1LgbhuFxDnZCsyIBLuSwIVZj6/zoTXvxn+Pm/NuZaFTRNIMya0ncDNwIbgdtEZFLSuYi0AZ8AfubathG9hvXFwA3A3zlrVJ/JOBZEI9p8LwrcfnrnDqx9RTFAv/dUjP2n4wxF07rZYKNo6YfYKa6/eAmdET+94giEvjPuCPuJoa2LCzr0pNQdyJFUAU7HMhw4HWcknuH1q7ooKBgcrXIn5/Whgu0Es+McPB2fvGpecmx2bokTr2jffNvS0nKxu380+biJ49qnHuyYvQUBtWMQoF1QU+Guonao7MdUrNY2z+NYEP4WWGJWhOtcqY9L1Ij3OCSnsiCMQBTXo56BBeGfxoJoW6atpUb0SHJErnt1uQVRyOvnDxsLAuD4trk/n/OctToCzJFmWhBXAXuVUvuVUhngXuDdVY77U+DzgLue/t3AvUqptFLqALDXXO+MxolBnBMprlD6UCZGdFqmNwAtfaw1Paj2DcV4dr+ehK5e00CBaO2H5AjXX9TDz//4HYQzI6Xt6BhETGmBGAiYbq++LEkVZP9QrBh/uOWKFQAcGqlu6mcDHXRInGg6x+lYpnznt34bvvGrMx/7yVdhYJN2dfVv1M3iqrmZomZy7t8wtUA4vnl3qw3/dBZEvS6mo2QiA/zRd18hmtLvY0kgjAVRuT70/2vvzMMbu+q7/zlaLFmLF3nf7ZnxrJl9MiEJWQgpCQ0JadjCTksbaJNSWqDA+1Ja6FtoKUtZUghPQyElgUDCkkIgCWQnmUxmy+yrx57x2ON9ly3b0nn/OPdKV/KVLY+tccZzPs8zj0dXV9K9uvb53t8eMOIVNZcmCgwLjQFU/c3Tf95YuhgENhbEbATCl+jmmhqDAPU9T4Tnp+bFFLnCBvV51lnYoG6q8muUCM5XoDrcm7Dm55lsCkQVYG2T2GpsiyOE2AjUSCl/NdvXGq+/QwixQwixo6ura36Oeg74c1zkup1U5tv0iVmMxC2IXlXvkFcJDgd+j4vKfC/HO4d58UQPZXke6ovmscGgOYpypFu5rUaMa+9LWBBDqM9zTKiFLOCYIIyHk90j7GzpI8/r4rpVSlBauu3jEGFnHgWoO+ST1n16T6pit+7js7vrjE5Cx0EoX6seCwErboKmp5PnOkup3E7BCkMgDqb/nBktCBuBcOeqO/zpgtQTozDWT/N4Pj/cdiqR7TVFIFJiEG6vmlWy/l2J9yowBGKmOEQ8SJ3SasM8HrDEIGbhYnJ5EwKQLgYB81MLYbUgICEM5nZvgbruFfMUqJZSWYIXoAVh53CO/5YLIRzA14CPzfa18Q1SfldKuUVKuaWkpOScD3S+uHl9JX917VIccykEu5DITQlS5yf6Ky0tDXC8c5htTb1cPp/xB4hbCowYLbxHutWdoXHnnJebsCDMthBeOUZEeGgyBGJzXSElAQ8Bj4vmNJlMgwQoEEogmq0CsdsICE6Ozi7Lqee4KvIyBQJg+Q1qkW95MbEtXsFcqayM0T4Y7rB/z+mymMDexQQqDjGdBWEslu0xtVj3mBaUeQduupgmbLKKbr8f1lsq1OMWxAwCMdavekclNdtLGRmaGvPIBHeu+k5jk2liEMa959A8CkRhffLjsRTxK1+nbhaiE3P7vImw+l25AAWiFbB2ZKsGrFcgCFwCPC2EaAZeAzxiBKpneu2rkhsvKeevX9+40Idx/nB71R9quFfFICwtGZaVBtjfNkD3cGR+3UsQ78fEsGE5DHcmrAqSYxDmna6YHAW3jz2n+jnWOczmukLVkLDIR0uaTKaemJ8iR5gcp4MmUyCiE7D7/sQiZgbnMyEeoE4IRGdAzT3obrY0cDMDpsFyZUFA+oCmrQVhsWDT3Wn7iqcPUhvH0Dyu7rh7R1IFIo0FYYcnqG4mMrEgcguSq9vTuZhmFYPITQisbQxini2InGDi99EUhtQAfMUGtbB3H53b55lxnQvQxfQy0CiEaBBC5KCCzvFJMlLKASllsZSyXkpZD2wDbpFS7jD2u10I4RFCNACNQAZNaTTnndxCZeIOtqmRlAbLSgNxr8i8C0TAdDGZFkRXkkCsqghSUWJ8psVX7vL42W64SjbVqTs5JRD2FkTHRC6FjhFqQrmc7DaCsUcfU90/X/OX6vFsBKJjn4rTmOM0gV1dgh4ZpLfFIgBxgahMCERHOoEwLQibXkyQfuH2z9CwzwjAHx1VLqWEQKQGqTO8oy+sUz2IpiO1zYb1fSdTgtSzyWIyXUxgH4OIC8Q8ZDKN9qm/CVOITLdZqvvMbNRopj2f8+cZAnGhWRBSykngLuAx4BDwEynlASHE54UQt8zw2gPAT4CDwG+BO6WU89iPVzNv5IYMH3kU8qvjm81AdUW+l7r5jD+AxYKwuJjMwCtQXejj8Y9dp+7y4+mYo+TkqmNyOgQbatRCVFfk53RfmMno1FTXM2Me/LFhGor8NHcbC8yuH6gFZfMH1OPZ5M+f3QclK5PqClp6wpyQleT0H0/sZ97J5lWo8/KXpg9UmwJhbbVh7TeVzsXkm6Fhn3Fe+4fUQhwP0qemuY4PK4vFMcNSUpBBsVxqmw2wtyAcruSg/ExYxStVgEC9l79kfmohRvtUCxrzc1ItCHO7MTxrVrMy7LiALQiklI9KKZdLKZdKKf/F2PZZKeWUmZRSymsN68F8/C/G61ZIKdNUE2kWHF9hYvHKSwiEmeo6r/UPJp6A+qM3g9MpFkRiv2CSrzzXr+5+V1fkxXtn1Rf5mIhK2geSh9IMjk3QPp6LkygriwQne0aI9Z1SwekN72Z7j5eYcM/SxbQ/Of4ANPeEORGrpDDcnNhoWhBmRlDZ6oSLKRaDp/8Nmp9Xj+1cTFaxSGtBGDGIdMHvoXZkToCj/era9Y5YLBWHK9Hy25xHPROmBRGzqTkxsbMg4iNDLTGI2VgPkJzVZReDgPmrhQj3KivBFDrTckjN0HJ7lYXY1zzHzzNEPt1ckzmiK6k1cyO3MJFqabEgivw53PW6ZfzplfXZ+Vx/ibIgopPqj8QMXFuxNpabGMUfUIvD5rpElkxdkVpsUiuqW7rDDKCeawxMMD4ZY3jb99WCuum9fOE3R2iThciBDO86hzqUS6wseQbEqd4RmmQF+bH+xN3gULu6wzfvkktXQ9dhQxy+CE9/AbZ9Wz1nF6QWIiEYKYt3eHxSZWT5io02KWkqyQfbiPrLGZ1QhnvcxZQ6VS7d+M9UCurU78mwTVGgyWhfBhZEhp+X9B5WC8ImBgHzN1ku7mJKtSD61XFYr1OoAfrmaEGYlsmF5mLSXCRYTVtLDEIIwcdvWMG6ahuTfj4IlKoFd7QXkNNYEENqYZ0IEyrIZ21VPjetS1QH18cFIjkOcbJnhH6prKAG/zguJvHsvR+Wvo4BbxV7W/s5Ewsx2jODX92g+cA2AEaLkmtFTRcTwEj7YbVxsD25n1DpKnXn/Oy/q0l9Tk8ih97OgrA+tgjE+GSM9927nVu+9Twx844zXRxiqJ2wV3Xezc910zNiqQOZIhAZ1P0UZpDqOmoXgzAFwjjPiTSzIKbD+t3YxSBAuQ3nUyDcucqSs8YgrOm7oDKd5s3FVDj9fueIFgjN3DB/MT156e/OsoG/VGUxmW4mSwwijrmQGYtoTm6A//3r13KpZR52adCD1+2YUgvR0p0QiJrcMf7IsRPP6FnYegfbmnqISWiTRcT6M3Mx9e36OaMyh1ei9fFt45Mx2vpH40HrrmajDfhQW3LLCnPq3dNfgPqr4OpPwMAptTjYWRBgEQh1DlJK/vGR/exo6WNobJLumLFQpotDDLbT71Lf6fqagoQFAaq629pqI5MFu8A473RxCCkTlcZWnO5Eu25IDCeaDRlZEJXqZiN1ONFskDIhEEIosbN2dk0Vv8IGZVHNpSfTaK/627P2y5pHtEBo5oZp2ubNYUrcuRAoURaEGaiezoKYJnfe4RDUhfxTqqlP9ozg8hu9nsQIH3A/QX9OOTS+gT8c78aX46TPVYp3tGPmecbjYVZ0Pcajscs40JPw+bf2hYlJuGTNJUSki9G2NBZEyQpAQGgpvP0+qN6stp/dq1IlYapAuJMtiB++dIofbT/N1cvV99Q8ajxvZ0HEojDUThfq/NdX5xMejzI6bpynNbZjjhudiYIadQ7pLIjI0NRW3/FzscyEMOdfz4Ix1OIZE67kAL4Vs6XIXOIQ5jmYN025BRYLom/qXb5ZTDebmd2pmDGPLKEFQjM3TBeTJf5wXvCXqtiDmd/unyYGMUNxlV0tRHP3CPlFajEVLS9wmTjI4743gcPJ88e7uawhhCdUg4vJhEilYfLAL/HJMA9OXsvh9sQsBVOUrmws5xTlOHqOqS6p4e5kC8ITVMVn7/ulEmSzx1H7K5YspjQWhNvH9pO9fO6RA1y3spRv3r4RgGPDxv52tRAjXSCjnI4WUBzIiXfN7TED1UkCkWGQ2uVRbpx0i2FqIZkVd24izXU8nH6RT0ObcWnHnP70EwTnY7JcvNbBOAerBWGXoWUW083FzRTuyVqAGrRAaOaK+ceQf74tiFLVEbPLuOtO62IatOTq2y8s9cV+WnrCxGKJu/uWnjDFxcb0u133MSHc3D9+Ne0DozR1jXDlsmJCleoOsL9j+j/wse33cTJWxi6xiiMdiVkKp4y4R0OJn46cGvKGTyaCuNYZDAArbzLuwlEZSPk1hkAY0+RS00xdHnWn7XDww20tFPjc/MftG8j3uSnP87K/33BJ2FkQxiLZFMmjutBHyK/EJKkWwprmmmnbi+l87nazIEySLIgMBclCq1HCMiymeZ0pyHOphUgViCkWhI2LCeaWyTTam7UANWiB0MwV30JZEIZLqeOgSru0c02YC9kM1b51RT4ikzE6hlSsYnBsgp6RcapLQ8rqiEY4UnwD+/vdPHNExTyuXFZMbYOKHTQ3TVMN29tEoP0Ffhq9hhvWVHDk7BBRQ4haesL4cpyUBDwMB5dQMtkWLyaLBir48mNHOGEZvJRExfqEBZEaoAaVHmqcb1v/KMtKA+R5lSg0lgXY3xVTwmJnQRiZNYeGg9SEfIT8KpsqHqj25s0+BgFqmlpvmtkadrMgTNw+SwxiZNZB6pZBlVo7GJvG8oj3Y5ohK22wPX2TvdGUmoSZYhC+kLJy55LJlMVGfaAFQjNXzDvd0JLz+7lmWmvHAWNspM2vsicIyEQgO50FYWYyGcVwLcbP+iJf/I+6Y+V7icYkP3r5NMWBHFaUBVm6bCUAXWeaEm+2/2dwzzVw+mX1eM8DxHDwvP96rl1RQmQyFndnneodoTbkU3UixctxEWXi5B8A2Dfk41tPHedff3N4yvH+dv9ZevJWqt5OI91T4w+gthkC0T4wltRAsrE0yPGuEaSv2L7l9/6fIf0lPDdURk1hLkWGQPQOWyyIMWsMIkBkMjq1JXoqRUuUSzBiI3rTWRDmwB8wLIjZCcTJASUQvdMJhCeoFuuZYhC//zz86Hb752wtiAEl4hPhqe4zIVR215wsiOy1+gYtEJq5UlgPf/4krL71/H6uGXMYbLV3L0GiLYQZp5gmBgHEF+6Txs/6Yr+6s6y+lIJllwHwyul+rlhajMMh8AaLGMPDWLcl1fWVH6k+/9+7AZ77Cux5gJccG6ipa2RlucocOnxW3X0394Tjnx2oVGITOfY0AI+cUIvt7w51JFkRh9oH+cv7d/LTM4bf+cwOewvCmw+5hURjko7BMcrzE/s0lgUYnYgy4QlNtSCGu+Dobxla/hbGYk5lQQQMgbC6mKIRtfCNjzDh9HL5F5/kvhdnCLaGlqqfvU1Tn5vRgjDSXMdnXyh3vNeo5ZjMZWximoSC4uVqOtupl9Lv031UueCik1Ofs4tBRAYSImwnfoUN5x6DiE4oF6q2IDSvaqo3g+M8z3MKWLKW7DKYIGOBqMjPJdft5OFdrQyNTcQ7t9aF/PC2H8DtD7DEMi71tcsMQRKCEW85ruE2tfDEonBqG6y5DVbdrO42B89w39hVbKorpLEsgEPA4fZBYjHJqd5wvFCvrEFVWOee3YF0enjo0AjXLC/B7XRw7/OJBeTffnsYKeGJXiM+0tsUr5y+84FdfPIhw/3xR5+HW/+T7uEIkzFJRYHVglCpr8PO/KkxiH0/gdgkJ6rV6JaaQh9Bjwu3U9AdD1IbKbLDnYDk1LCgd2Scn+48zbQUmQJh42aaMQYRVmmks7Qg+kbGaQurwPSg9Km04nTc9l21uP/gZtj/cJo3PEmSVZp0DikN+cyfZg8quwB8qEEF7mfKhLMjnN0+TKAFQnOh4slLZO6kEwgz5z0uEPYuBqdD8MXb1rL7VD9vv2cbO1v6KM/zkpvjVIHhQCmF/hwKfMqHf2VjwmKReVWU08P+MwNqGFBkUI0Sfdv34eZv0FZzE7+PbWJTbQFet5OGYj+Hzw7RMTTG+GSM2pBa7GqryumQBThj44x6Sxgci/Jnr23gLZuqeHhnK93DEV440c3TR7qoCeWys89DzLSiXF4mojGePNSZmNsQaoDSVfEFsdJqQRgz03vIS7YgpFSjK6s2cyymAuI1oVyEEBT5PRYXkykQ6ns92qdcOPvPDKbtjAskgrI9dgLRN7XVt4k5EW5iFJCzikEc7RhiDCWgQ/ho6x9Lv3PRUvjz30HVJnjoz2DH95KfHxtMWAN2FeGj/cq6MV1+pjVkWgh21lFhvaowP5f02iw36gMtEJoLFSEScYhMLYhpsl9u3VjFvR+4lJaeEZ452kV98dRFaEmxn4ZiP1WWu3F/SR2VoltNqWt5QW2su0Id3+b389/lnwGXhzWVSqxWludx+OxQvIOs6WLyuJyccalFuS1aSHEghyuXFvHB1y4hMhnjvhea+dffHKYy38s/3bwGEPTnG51eXR4Otw8xOhGltW80HgQHOGv0mLK6mPJ9bkqDHton/MkxiLbdqufTxvdwui+MQ0Clca4hf87Ujq7GonagKxrvvfXr6eZ3ewKqv1Q6F1Nqq28TM0h9DsOCjnYMMSbVgj0ofZzpn6EozRdS6cRVm+Hle5OfswaTh2zmc6TWOpgWhBljsLMg5tK0L8uN+kALhOZCxhSGmQRiaHoLwuSa5SU8eMfllAY9SdXWJp9/8yV87R0bkrblFtdRIgbY3dypGugV1CZldO1s6WNdVT45LvWntrI8yKneMAfbVJDXDJADDPjVYnEkHOBN6ypxOR0sKw3w+pWl/OfTJ9jbOsDH3rCCLXXq2Jpcy9QLXV52tqjFYjwao2MwcZfcZghE6pTDxrIARyOFKk319/+sfOp77lfxjEvewuneMBX5ubid6riLAjmJLKb496ruopsGJLdtqmJDTQGPTicQoO7S7QTCrs2GiTs3uW/UrCyIYaQniPQW0EwFZ6azIExcHqi7ErqPJccarIu4rQWRIhDeVIGwOT+zWO5cMpm0BaHRTMNsLYgMFpa11fls+/Tr+ej1y6c8d0lVfrxNeJz8KhxITp08jmx5AepeG38qMhll/5nBpOaAK8rVMT1xsAOXQ1BhubOPFioffXusgFs2JArl/uLqJUzGJCvLg9y6sYp8n5v6Ih87IkZdhMvDzlP98f1PWarCzw6M4nU74u4xk8bSIHcPXY3c8B547svw/Ztg309h1S3gzed032i8QA6mtyDCeLlqWQk3ra2Y2c0UWmLvYjItCDvcPsPFNPthQUc6hqgvL0JvauyRAAAfJElEQVR87DDb/a/jTF+GrTRKVqpAvLWwz7qI2xVHmq2+TeIWhPE6Owsir1qlaZ9LJlM8+K0FQqOZSqYWxHCH6ueTYb8ah0PgzHRsrNFiZMPEbsRor3IvGew/M8h4NMbG2sTCsKpC+e+3N/dSXZiLy5n4E/RWGJlMuWVstAjRZQ0hPv6G5Xz5bevjx7W2uoAn+ozcfZeHXS19rKtWbiyrQLQNjFGRnzul5XpjWYC+cSdt134ZbvsvFT8ZG4CN7wbgdG+YmlBiIU4SCDO2Y1gQTo+fNZV5vHGtSnme1s1UtFS1SBkbTN4+nQVhDvyJFzxm5mKSUnKsY4jlZQFw51JZOEOQ2kqJuhbxQkyA3pMMOvIZIBA/9yRS214kWRBC9bBKxelSRY9zcTFdqJXUQogbhRBHhBDHhRCfsnn+w0KIfUKIPUKI54UQq43t9UKIUWP7HiHEd7J5nJoLFNOCCKQRiBxDICbHZt/gLVMMd9I7PMZMaYtAPH5QLSKb6hILX1VBLv4cJ9GYpLYoeaELLb2UAemjePlrkhZ0IQR3XdfIJVWJBWZdVT47BwPEvAWMShdn+ke5eV0lDqEWd5P2/tEkK8VkeZn6bo52DMG6t8GHnoVbvgn1VzM2EaVzKEJNYeI7K/LnMByZVNlahvBKw4JorCnD4RBUF/pmdjOZ9TKpbqYxm26nJm6fmicdGVCPM7yWXcMR+sIT8XOtKsjlTMYCYViQFoEYOXucE5MlnI0VEB3MwMVkWhDDHUpU0w1VOte236O9Sjyz9btNFgVCCOEE7gbeCKwG3mkKgIUHpJRrpZQbgC8BX7U8d0JKucH49+FsHafmAsbsnxMot3/e6Uq4lWbbIjrjY1AWxPrYQTpkAQfHVIZTa1+Y//5DM3+ysYrSYGKBdjhE3M1UnzJpb+XSJfz0+j/whj9+y4wfq6wFwaGNn2V3hSrc2toQorIgN2mE6lnDgkhlmTHx73iHUWNRtBQ2vQ8cDloNN0xNKPG6ooCl3YYhEON9qiXH2vqEO2xGN1MoTaqrXa8iEzN2ZHaezdCCOGacmykQlQW5tA+MJrVUSYsnqNw/XUfimyJdJ2iRpXTKAiYGUno2WTu5xo/bpyxXSH9uoDKZzsnF1JdV9xJk14LYChyXUjZJKceBHwNvtu4gpbTamX4ggyun0Risfye85+HkzqepmG6mbAmEJxB3ueyQq/jhdpXz/qXfHsEh4BM3rJjykpWGm6k2lHxMDofgz69aQqF/5nGaa6ryEQKecF7F70aW4nU7WF2ZR23IF3cxRWOSjqGIrQVR6M+hOODhWOfQlOdO96nXp7qYwBAIY6qcNNwsm5Yl+nCZbqZf7U1jRRgWxK7dO/nq48bia7b6ni5IDYmajQzvmI8YBYmNZUoMqwpzmYhKuocjGb2ekhVxC6JnYIj88Q7C/lo6KZiaxTQ+ArGJZIEQwlITMU3H1cIGJS6j/en3sSPLfZgguwJRBVgrZ1qNbUkIIe4UQpxAWRAfsTzVIITYLYR4Rghxld0HCCHuEELsEELs6OqyKVzRLG5y/LDs+un3ybZAgPIhA5Gqy/nF7jM8e7SLR15p446rlsTTRK2sNCyIuqLZVQRbCXhcLCsJsK91gJ2n+lhXXYDb6aCuyBd3MXUOjRGNSSoKbCqtgeVlAY51Tm17YVoV5lxxIN5uo2dk3Jgql4d3Qi1oFSXJ88AvrS/k4Z2t9q03cnwQrKT39GG+8eRxXjjebWmTPZNAmBZEZtfyWOcQhT43JYb1U2V8D62ziUN0HYVYjN889xJOIdmycRNdshD3aFfyuNbUKmoTU/TSiR8kurrO1s0U7slqq2/IrkDYRfmm/MZIKe+WUi4FPgl8xtjcDtRKKTcCfwc8IISYMgpKSvldKeUWKeWWkpI0fmjNxY1Z1JVFP63pZrrkijcSHo/yof/ZSUnQw4euWWq7+7XLS9lUW8DG2rlN21tbnc+uU30cODMQz5SqCfnoGRlnODIZn7OdmuJq0lga4FjH8JSF/NDZQUqDnrjVAFYLQt19S1N4YUpdwtu31NDUPcLLzX32Bx5aQtG4GrT0mV/sJzJsLPwzWRBmUV+GdRBHzg7RWBaMx3NMsc48UL0CJkcZ72nh5d27AFi2Yi09ohCnnEiIAqQXCIsF0T0c4S/u20HXUIoFY6a6tu1GSslXHz8ST4OelnBvVgPUkF2BaAVqLI+rgemarf8YuBVAShmRUvYY/98JnACm5h1qNDMRtyBmN0NgVpSugrxqlq/ZwvqaAkYnonziDSvwe1y2u9cW+fjZX11JccCmyd4sWFeVT194gsmYZLORKWW6rU73hmnvn1okZ2VlRR7DkUlO9yYvmEfODsXjJCZFRsvvHqOaOizU58RsssNuWldBwOPiwZftW2+MF9RTI9u5qrGYpu4RHnremKSXYkFEJqO0D4wmLAbTxZSBBaEymIZZUZY4D7PAcVaprsCunS+SP6YEzVG0lKjPSI4YtriZZrIgcgt4/EAHTxzs4MWmlAaJxcuhqBF+9XeM//pTfPfJA3zvDynWRGQY/vuP4dkvWz7zwnYxvQw0CiEahBA5wO3AI9YdhBCNloc3AceM7SVGkBshxBKgEbCprtFoZiAuEOfuzpmRaz8NH34OHA7+/oYVvHNrLW/ZnP325+ssqbCb6pIFoqUnrBZX0lsQa42sqL1nEr7vyWiMY53D8XRck7xcFy6HiBfL9U4qwRA2d/O+HBc3r6/g0X3tDI1NTHm+z1tLsRjkPRsKuXl9JY/tMDKFUiyIe55p4vqvPEMEc7hRDyAyEvu2gTGGIpMqxdUg6HUT9LpmYUGoe9JjB3aw1teLdPshUIozz0iKsKa6xgUiZcG2WBDbTyphOJUawHd54I6n4NIP4tnxHX6T8ykGjr2YsOxiMfjFX0LLH2DPA4ltoxdwkFpKOQncBTwGHAJ+IqU8IIT4vBDiFmO3u4QQB4QQe1CupPcb268G9gohXgEeAj4spezN1rFqFjGmiymbFoTbG7+Tu3JZMV+8bW3mdRRzYHVFHk6HYEmxP+4CSrIgBsbw5TjJy7W3ZJaXBclxOdjbOhDf1twzwvhkLB4nMRFCqFoIw4JoH1NWg7DrnYRyM41ORPnfV6YGq9udKutpieMs//CmVRS5jKyrFAvipZM9jIxHOdJriEy4R1kP6abCWdhjFA6uq05+T5XqmkE1NahuuP4yvP3H2BzoQxTWgxB4Q0bWVpIF0Rt/TRKG6ElvAS+dVPs099i0+/AE4aavsP/6H+IWUe6O/B/6nvqWinM8+yU49IiaAdJ7QjX/iwyogVlZtiDsf3PmCSnlo8CjKds+a/n/36R53cNAmnaKGs0sMC2IbMYgFgiv28n1q0rjaZwABb4c8rwuTvWG6RmJUJ7vnVIkZ5LjcrCqIo+9rQkL4lC7yvxJdTGBikP0jIzTMxyhbcwNTtJ+rxtqClheFuDBHad512W1Sc+djJWxAaiIthMIerm+3gPNMObKw3SGxWKSvaeVcO3rmGAdKIHI8DrubOmLZ3ZZmVUtBNDpqadRnKEKB4RURlqwuBqOwHh/G/EozdBZQKSNQfTF/PGY0Ck7gTA47t/EZyNf4Kvub3P9s5+Blt9Cy/Ow4d1w+V3w7cuh6WnVCgQuXAtCo3lVcD6ymBaQe967hY+9ITmVtrZIpbq29Y+ldS+ZrK/OZ/+ZwXhtwOGzgzgdIt58z0pRIIfekQjPH+9mWBrvmyZgLITg7VtqeOV0fzzd1ORQRGU9+YebAViep1pd77O45pu6RxiKqD5Iu9qNO/7R3oyvozWzy0pVYW7mLiZgT6SM5Y42PEOn49lGZSXFjEgPIz2W6XNn90Fxo7ImrRgWxJEB1Q5/bVU+zdO0IukcGmOQAB9zfpL/Lf4LOPUCVG+FN31NxboC5XDiqfNSRQ1aIDSLnfMRpH6VURtSqa6qSM4+QG2ytiqf4cgkTcYMjCNnh1ha4sfjmjrfI+T30DsyzjNHu5hwGQIyTWzntk3VuJ2Ch3e1Jm1vHojRJYoRRrFcdW6ESelg+5nx+D6vnFZWzeVLinj5jCEQMgY5fp492sWmf36C4zY1HABjE9GkzC4rlQW5DIxOMByxGfiTQtdQhOf7S/AxqqrxjWyj6kIfnbKA8X6L+6xtD1RsmPomhgXxSo8gP9fNH60uo3MoQnjc/vO7hiJ43Q6uWVHO5/pvRN65Hd77cxWnEAKWXAsnn0kE7C/gILVGs/CcjyD1q4yakI/TfWE6h2YWCNNHv88IVB9qH2JF+ZSMckDVQnQPj/PcsW6Kiozah2lSTkP+HNZXF7CrJTndtbVvlA5PHex9EO65mtyTv2PIEeRly36vtPYT8Li4fWsN/RMWsXL7uP+lFnpHxvnHRw7Y1lrsOzPAZEyyqdZeICCzVNfHDpzlaMxSumW05q4pzKWTQqRZLDfcCUNtKkaQSlEjOFw81eHj0vqQmlJIcr8sK51DEUqCHq5YWkT3cIQTsXJVjGmy9HUQ7uHYS79Wjy/gOgiNZuE5H0HqVxm1IR8TUUlMkjRJzo6lJX5y3U72tg4wODbBmf7RKQFqk5DRj6lrKEJ1uTHRboaYwOpKNf/C2t6itS/Mb5f+A1z/T6oqu/MgI94Kdrb0xWdZvHK6n7VV+Vy+RI11NZl0ennqcBfVhbn84XgPj+6b2hNppyE0m2zqTOKprjYC8eu97Tx3LFFw++i+diZClkRLw4IoDnjooQD3qNHRtf0V9bPSxoKovYyuvzrCS70+LmsIxdurtKSJQ3QORigNerliqRLgF06kpMQuuRaA4IlfqcfagtBo5oD3PBTKvcqoCyXu6meyIFxOB5dU5bG3dYCjRqxgVUV6gTBZUm20N5mhaG2VWWthtO8YGJ1gcGyS/LI6eO3fwgcfh48fY8819zI0NqkG/ExEOdg+yPqaAkrzvFSE8ogZS1XHmJPxaIxvvHMjqyvy+H+/PshIirtoZ0sfDcX+eP8oK+lqIX655wx3PrCL931vO3c/dZzu4Qjbmnp47boVqluwcMYr5h0OwainBN+44eZp36N+lq+1/Q5ealOus60Nofi1SReo7hqOUBr0UBPKpaoglxeOJwuEDJRxylVPuegjKgWTbvtrNV9ogdAsbhZ5kNoOa48nu0Z9qaytKuBA24AamwppXUzFASUQy8sCFBQawdEZXHerjXqKQ+2qMrjVEArrrAkCJaxfrno07Wju5VD7IBNRyYYaVadxaUMRY6i02pZBaCj2s7GmgH++dQ3tA2N888nj8beSUrKrpc/WvQRQGvSQ53XxnWdOxOMc20/28omf7mVrQ4ib11Xy748d4e33vEhMGr2lSlaq0bOWgsBJfym5sbDqwdS2RzUh9Nq08zbe35fjZE1lHvk+NwU+d9pAdefgGKVBD0IILl9axLaTPUnW18O7zvDEmJok2E+A5t7MA+7nghYIzeImWA4I4+fFQUWBN16Hka4Pk5V11fmMTcT41d52gl5X0vxqKyGjmvrqxpKM04dXlAdxCOKtI8xOsdWFya+rLsylLM/Dy8198YV7Q41a5LfWhwgbY0NPjwjevKESIQSb60K8dXM19z7fpNqWg5HeO57UYt2KwyH4/p9tRUp463de4CuPH+GO/9lBdSiX7753M1+/fQOfuGEFTV0j1Bf5lMBd/zmVRWR9n6ClWK59r338wWD7yV421xXGZ3/UWRoqWhmbiDI4NklJUJ3rFUuL6A9PcOis+u4GwhN88dFDtBe9BoA+GeRgu32gfr7QAqFZ3ISWwF/vhIZrFvpIzhtup4PKAi8Bj4s878xDksxBQzta+lhVnpe2bqKxNMCy0gC3bqyyCMT0FoTX7WRJSSC+kNm1EgeVFrulPsSO5l5eaR2gLM8TbxFyaUOIMaPiICw93LohETj+1BtXkud187cP7mF8MhaPP9hlMJlsqi3k0Y9cxetWlPLNJ4/jFILvf2ArBb4chBDc+bpl/PTDl/Otd21S30X1Zlh6XfJ5FSoX21jbARg4ZR9/APrD4xw+O8RlDYlYQV2R39aCMHs0me3hL1+qrLRP/2wfH/3xbj74g5fpC49z223vQDrc9BOMW2bZIquFchrNq4Ii+6Z5i5n6Ij8+d2ZtreuL/AQ9LoYik7YFciaF/hx+93eG0PaYwf+Zs8NWVeTFM5la+8IEPC7yc6cK16V1hfx6bztPHelkq2UmeH2Rj5NCLZrBYF48EwhUwPgLt63lQ/+zk28+eYzekXGCHheNpdP75vN9bu5572Z+tbedleVBalNmc9jNJLcSKFbxiLGDv1HFfSkWRMfgGL/YfYaHdqoUX3OxB6gr8vGrvW2MT8bis8pBZTABlOQpC6IiP5d3bq1h96l+dp3qJzwe5eM3rGB1XQWsfRvHD09ogdBoNLPns29aTXg8mtG+Dofgkqp8XmzqYWWaAPUUghVQsmpa14rJ6oo8/veVNgbCE5zuVbOu7ayULcai3B+eYL2lz5QQApcnFyKwpLJ0yutuWFPOWzdXc/dTxwn5c9hQW5BRqxMhBDevr5xxPztC5UogvM2/Uxss38Oj+9r56x/tJhqTbKwt4N/fuo7NdQnBqQ35iEmVSdVgEbuuIVXvUWIJrn/xtnX2B/An3+alB/dw6ET3OR1/pmiB0GgWIY1ls8tuWVdjCMQ0FkQSOT64c1tGu5pZUQfbB2ntCycHqC2sLA8S8LgYjkyyoSY5huDzByECy2vKbF/72ZtX8+KJHs70j07rXpovKsorGZdOvKOdUFAXr0cYGJ3gs7/cz+qKPL5++waWlEytSDctoJaekSSBMC2I0rzMuvyuqgjy891n6B0ZT8owm090DEKj0fCmtZVcvbyENZX2mThzweyHdLB9kDN9o1MC1CYup4ONtQUIoWZdWCkqVIIRCNhnWOV53Xz5bevJdTu5Znn2Z8OUBL10Y4iYxXr48mNH6B0Z54u3rbUVB1BBaphaC9E1FMEhEq3VZ2JVSoZYNtAWhEajYW11Pvf92dasvHdp0EtxIIdtTT0MRSbTWhAAH7iintUVeVOC68JMU54mKH750iL2f+6G89JJVwjBgDNEZawnHqDe29rPD19q4f2X13NJVXqhLQl6yHU7pwhE52CE4oAn4+O3CsSVy4pn2Pvc0AKh0WiyzqqKvHiVcjoLAuD1q8p4/SobN5LLSL2doZ7lfIiDSdhTAqPHoGI90Zjk//58PyUBDx97w/SzzYQQ1BX5aEnJZOocGounuGZCccBDSdDDQW1BaDSaC5nVFXk8d0wFVKezINJitkp5FVXER30lMArX3d/H2ehjhMejfOOdGwlmkFpcV+TjRFeqQKgq6tmwuiIv3qI9G2iB0Gg0Wcc6oa5mGgsiLabl8Cpqulhy+bt4dpuPK6tX4XY6WFYa4OZ1FRm9tq7Iz1NHuojFJA7D6ukainDJLGNAqyryeOFE05SU2fkiqwIhhLgR+DpqtMh/SSn/NeX5DwN3AlFgGLhDSnnQeO7TwAeN5z4ipXwsm8eq0WiyhxmoDnpcaSfcTcur0IJo2HIjDVtu5OpzeG1dkY/xyRhnB8eoLMglGpN0D0dm5WIClck0EZWc6Jo6JnY+yFoWkzFT+m7gjcBq4J1CiNUpuz0gpVwrpdwAfAn4qvHa1agZ1muAG4H/NGdUazSaC48lxX5yXA6qQ760ldrTYgrEIumpZTbtMyuqe0YixGTmKa4mZq8rs5XJfJPNNNetwHEpZZOUchz4MfBm6w5SSutZ+QGzK9WbgR9LKSNSypPAceP9NBrNBYjL6WBrfYhLKs/xLtc9/QS7C43l5SoF1qww7xw022zMTiAaDOHNVqprNl1MVcBpy+NW4LLUnYQQdwJ/B+QAZsOTKsBahdNqbEt97R3AHQC1tbWpT2s0mlcR935gC45zsR4Aaq+A5TeCLzvpnOeb0qCXDTUFPH6wg7uua6Rr2GizMUuBcDkdrCgLxhv6zTfZtCDsfhOmjH+SUt4tpVwKfBL4zCxf+10p5RYp5ZaSkuwXx2g0mnPH43JOmRGdMTWXwrseBOfiyau5YU05e1sHaOsfpWswuVHfbHjLpirVYTcLZFMgWoEay+NqoG2a/X8M3HqOr9VoNJoLihvWqHqPJw520Gn2YZqlBQHwgSsb+NA12WlImU2BeBloFEI0CCFyUEHnR6w7CCEs8/y4CThm/P8R4HYhhEcI0QA0AtuzeKwajUZzXllSotqnP3bgLF1DEfK8LrzuV1cuTtbsNSnlpBDiLuAxVJrr96SUB4QQnwd2SCkfAe4SQlwPTAB9wPuN1x4QQvwEOAhMAndKKTNrTanRaDQXCDesKeM7zzQh5blZD9lGSDnFtX9BsmXLFrljx46FPgyNRqPJmL2t/dzyrT8AcPmSIn50x2vO+zEIIXZKKbfYPae7uWo0Gs0CsbYqnwpjct5sayDOB1ogNBqNZoEQQvCG1SpYbR0U9GpBC4RGo9EsIDesKQe0BaHRaDSaFLY2hLjrdct44yWZNfo7nyyeqhONRqO5AHE5HXz8hhULfRi2aAtCo9FoNLZogdBoNBqNLVogNBqNRmOLFgiNRqPR2KIFQqPRaDS2aIHQaDQajS1aIDQajUZjixYIjUaj0diyaLq5CiG6gJY5vEUx0D1Ph3OhcDGeM1yc530xnjNcnOc923Ouk1LajqRbNAIxV4QQO9K1vF2sXIznDBfneV+M5wwX53nP5zlrF5NGo9FobNECodFoNBpbtEAk+O5CH8ACcDGeM1yc530xnjNcnOc9b+esYxAajUajsUVbEBqNRqOxRQuERqPRaGy56AVCCHGjEOKIEOK4EOJTC3082UIIUSOEeEoIcUgIcUAI8TfG9pAQ4gkhxDHjZ+FCH+t8I4RwCiF2CyF+ZTxuEEK8ZJzzg0KInIU+xvlGCFEghHhICHHYuOaXL/ZrLYT4W+N3e78Q4kdCCO9ivNZCiO8JITqFEPst22yvrVB8w1jf9gohNs3msy5qgRBCOIG7gTcCq4F3CiFWL+xRZY1J4GNSylXAa4A7jXP9FPB7KWUj8Hvj8WLjb4BDlsf/BnzNOOc+4IMLclTZ5evAb6WUK4H1qPNftNdaCFEFfATYIqW8BHACt7M4r/X3gRtTtqW7tm8EGo1/dwDfns0HXdQCAWwFjkspm6SU48CPgTcv8DFlBSllu5Ryl/H/IdSCUYU63x8Yu/0AuHVhjjA7CCGqgZuA/zIeC+A64CFjl8V4znnA1cC9AFLKcSllP4v8WqNGKOcKIVyAD2hnEV5rKeWzQG/K5nTX9s3AfVKxDSgQQmQ8/PpiF4gq4LTlcauxbVEjhKgHNgIvAWVSynZQIgKULtyRZYX/AP4eiBmPi4B+KeWk8XgxXvMlQBfw34Zr7b+EEH4W8bWWUp4BvgycQgnDALCTxX+tTdJd2zmtcRe7QAibbYs671cIEQAeBj4qpRxc6OPJJkKINwGdUsqd1s02uy62a+4CNgHfllJuBEZYRO4kOwyf+5uBBqAS8KPcK6kstms9E3P6fb/YBaIVqLE8rgbaFuhYso4Qwo0Sh/ullD8zNneYJqfxs3Ohji8LXAncIoRoRrkPr0NZFAWGGwIW5zVvBVqllC8Zjx9CCcZivtbXAyellF1SygngZ8AVLP5rbZLu2s5pjbvYBeJloNHIdMhBBbUeWeBjygqG7/1e4JCU8quWpx4B3m/8//3AL8/3sWULKeWnpZTVUsp61LV9Ukr5buAp4K3GbovqnAGklGeB00KIFcam1wMHWcTXGuVaeo0Qwmf8rpvnvKivtYV01/YR4H1GNtNrgAHTFZUJF30ltRDij1F3lU7ge1LKf1ngQ8oKQojXAs8B+0j44/8PKg7xE6AW9Uf2NillagDsgkcIcS3wcSnlm4QQS1AWRQjYDbxHShlZyOObb4QQG1CB+RygCfhT1A3hor3WQojPAe9AZeztBv4c5W9fVNdaCPEj4FpUW+8O4B+BX2BzbQ2x/BYq6ykM/KmUckfGn3WxC4RGo9Fo7LnYXUwajUajSYMWCI1Go9HYogVCo9FoNLZogdBoNBqNLVogNBqNRmOLFgiN5lWAEOJas9usRvNqQQuERqPRaGzRAqHRzAIhxHuEENuFEHuEEPcYsyaGhRBfEULsEkL8XghRYuy7QQixzejD/3NLj/5lQojfCSFeMV6z1Hj7gGWGw/1GkZNGs2BogdBoMkQIsQpVqXullHIDEAXejWoMt0tKuQl4BlXZCnAf8Ekp5TpUBbu5/X7gbinlelS/ILP1wUbgo6jZJEtQvaQ0mgXDNfMuGo3G4PXAZuBl4+Y+F9UULQY8aOzzQ+BnQoh8oEBK+Yyx/QfAT4UQQaBKSvlzACnlGIDxftullK3G4z1APfB89k9Lo7FHC4RGkzkC+IGU8tNJG4X4h5T9putfM53byNojKIr++9QsMNrFpNFkzu+BtwohSiE+B7gO9Xdkdgx9F/C8lHIA6BNCXGVsfy/wjDGDo1UIcavxHh4hhO+8noVGkyH6DkWjyRAp5UEhxGeAx4UQDmACuBM1kGeNEGInapLZO4yXvB/4jiEAZkdVUGJxjxDi88Z7vO08noZGkzG6m6tGM0eEEMNSysBCH4dGM99oF5NGo9FobNEWhEaj0Whs0RaERqPRaGzRAqHRaDQaW7RAaDQajcYWLRAajUajsUULhEaj0Whs+f94LeosawKQrAAAAABJRU5ErkJggg==\n",
      "text/plain": [
       "<Figure size 432x288 with 1 Axes>"
      ]
     },
     "metadata": {
      "needs_background": "light"
     },
     "output_type": "display_data"
    }
   ],
   "source": [
    "plt.plot(results.history['loss'])\n",
    "plt.plot(results.history['val_loss'])\n",
    "plt.title('model loss')\n",
    "plt.ylabel('loss')\n",
    "plt.xlabel('epoch')\n",
    "plt.legend(['train', 'test'], loc='upper left')\n",
    "plt.show()"
   ]
  },
  {
   "cell_type": "markdown",
   "metadata": {},
   "source": [
    "# Testing on new images"
   ]
  },
  {
   "cell_type": "code",
   "execution_count": 16,
   "metadata": {},
   "outputs": [
    {
     "data": {
      "text/plain": [
       "{'benign': 0, 'malignant': 1}"
      ]
     },
     "execution_count": 16,
     "metadata": {},
     "output_type": "execute_result"
    }
   ],
   "source": [
    "train_image_gen.class_indices"
   ]
  },
  {
   "cell_type": "code",
   "execution_count": 17,
   "metadata": {},
   "outputs": [],
   "source": [
    "import numpy as np\n",
    "from keras.preprocessing import image\n",
    "\n",
    "benign_file = '../skin-cancer-malignant-vs-benign/Data/test/benign/790.jpg'\n",
    "\n",
    "benign_img = image.load_img(benign_file)\n",
    "\n",
    "benign_img = image.img_to_array(benign_img)\n",
    "benign_img = benign_img/255\n",
    "benign_img = benign_img.reshape(1,224,224,3)\n"
   ]
  },
  {
   "cell_type": "code",
   "execution_count": 18,
   "metadata": {},
   "outputs": [],
   "source": [
    "prediction_prob = model.predict(benign_img)"
   ]
  },
  {
   "cell_type": "code",
   "execution_count": 19,
   "metadata": {},
   "outputs": [
    {
     "name": "stdout",
     "output_type": "stream",
     "text": [
      "Probability that image is a Belign is: [[0.00064657]] \n"
     ]
    }
   ],
   "source": [
    "# Output prediction\n",
    "print(f'Probability that image is a Belign is: {prediction_prob} ')"
   ]
  },
  {
   "cell_type": "code",
   "execution_count": null,
   "metadata": {},
   "outputs": [],
   "source": []
  }
 ],
 "metadata": {
  "kernelspec": {
   "display_name": "Python 3",
   "language": "python",
   "name": "python3"
  },
  "language_info": {
   "codemirror_mode": {
    "name": "ipython",
    "version": 3
   },
   "file_extension": ".py",
   "mimetype": "text/x-python",
   "name": "python",
   "nbconvert_exporter": "python",
   "pygments_lexer": "ipython3",
   "version": "3.7.3"
  }
 },
 "nbformat": 4,
 "nbformat_minor": 2
}
